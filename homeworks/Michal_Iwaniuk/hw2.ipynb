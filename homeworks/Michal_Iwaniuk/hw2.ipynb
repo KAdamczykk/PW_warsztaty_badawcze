{
 "cells": [
  {
   "cell_type": "code",
   "execution_count": null,
   "metadata": {},
   "outputs": [],
   "source": [
    "from openai import OpenAI"
   ]
  },
  {
   "cell_type": "code",
   "execution_count": 14,
   "metadata": {},
   "outputs": [],
   "source": [
    "pytania = [\n",
    "    \"Planuję z dłuższym wyprzedzeniem.\",\n",
    "    \"Jeżeli sytuacja jest dla mnie nieznana, to staram się ją najpierw poznać.\",\n",
    "    \"Zanim podejmę decyzję, zastanawiam się nad jej skutkami.\",\n",
    "    \"Wyciągam wnioski z nieudanych przedsięwzięć.\",\n",
    "    \"Gdy siedzę nad zadaniem, to szukam wielu rozwiązań.\",\n",
    "    \"Jestem osobą skuteczną w działaniu.\",\n",
    "    \"Zawsze mam wiele nowych pomysłów.\",\n",
    "    \"Konieczność nagłej zmiany planów przychodzi mi z łatwością.\",\n",
    "    \"W życiu trzeba podejmować ryzyko, aby coś osiągnąć.\",\n",
    "    \"Dążę do postawionego sobie celu, nawet gdy napotykam jakieś trudności.\",\n",
    "    \"Moje życie przebiega w dużym tempie.\",\n",
    "    \"Często myślę o tym, jak potoczy się moja kariera zawodowa.\",\n",
    "    \"Przed dokonaniem wyboru staram się dokładnie rozpatrzyć wszystkie możliwości.\",\n",
    "    \"Lepiej przewidywać skutki niż dać się im zaskoczyć.\",\n",
    "    \"Czerpię wiedzę z doświadczeń innych.\",\n",
    "    \"Rozwiązując zadanie rozważam różne jego elementy i aspekty.\",\n",
    "    \"Zazwyczaj kończę to, co rozpoczynam.\",\n",
    "    \"W pracy zawodowej lubię tworzyć nowe projekty, plany i rozwiązania.\",\n",
    "    \"Dokonanie nagłej zmiany działania przychodzi mi bez trudności.\",\n",
    "    \"Podejmuję ryzyko dla zwiększenia korzyści.\",\n",
    "    \"Potrafię zrezygnować ze zbyt ambitnych celów.\",\n",
    "    \"Lubię być tam, gdzie się coś dzieje.\",\n",
    "    \"Wiem, co będę robić za 10 lat.\",\n",
    "    \"Podejmując się wykonania zadania, rozpoznaję możliwości jego rozwiązania.\",\n",
    "    \"Przed podjęciem decyzji myślę o jej odległych skutkach.\",\n",
    "    \"Kieruję się w życiu doświadczeniem innych.\",\n",
    "    \"Patrzę na każdy problem z różnych punktów widzenia.\",\n",
    "    \"Skupiam się na tym, aby być skutecznym.\",\n",
    "    \"W rozwiązywaniu problemów wykorzystuję najczęściej nowe sposoby.\",\n",
    "    \"Potrafię szybko zmienić swoje plany, jeśli mam kogoś nagle zastąpić w pracy.\",\n",
    "    \"Warto ryzykować, nawet wtedy, gdy wszystko wróży niepowodzenie.\",\n",
    "    \"Ciężko pracuję, aby zrealizować swoje cele.\",\n",
    "    \"Jestem skłonny do ciągłego podejmowania wysiłku.\",\n",
    "    \"Aktualnie realizuję plany ustalone dawno temu.\",\n",
    "    \"Nie podejmuję działania, zanim nie rozważę wcześniej możliwych trudności.\",\n",
    "    \"Staram się mieć „awaryjny” plan na wypadek, gdyby coś źle poszło.\",\n",
    "    \"Często analizuję, czy wyniki pracy były warte poniesionych kosztów.\",\n",
    "    \"W każdej sytuacji rozważam za i przeciw.\",\n",
    "    \"Zazwyczaj doprowadzam do końca zadania, których się podejmuję.\",\n",
    "    \"Unikam szukania własnych pomysłów.\",\n",
    "    \"Słabiej radzę sobie w sytuacjach nowych.\",\n",
    "    \"W życiu często ryzykuję, żeby osiągnąć coś w przyszłości.\",\n",
    "    \"Całymi godzinami mogę rozwiązywać trudne zadanie.\",\n",
    "    \"Podejmuję ciągle nowe wyzwania.\",\n",
    "    \"Mam konkretne plany zawodowe.\",\n",
    "    \"Rozpatruję szczegółowo sposoby realizacji własnych celów.\",\n",
    "    \"Zawsze mam na uwadze skutki swojego postępowania.\",\n",
    "    \"Przed podjęciem zadania zastanawiam się, czy warto je wykonać.\",\n",
    "    \"Na każdy problem patrzę z różnych perspektyw.\",\n",
    "    \"Interesuje mnie rozwiązanie każdego problemu, którego się podejmę.\",\n",
    "    \"Chętnie podejmuję się zadań twórczych.\",\n",
    "    \"Jestem otwarty na nowe sytuacje i możliwości.\",\n",
    "    \"Potrafię sprawnie pracować w okresie napięcia.\",\n",
    "    \"Trudności w działaniu wyzwalają we mnie nową energię.\",\n",
    "    \"Jestem bardzo aktywny.\",\n",
    "    \"W swojej pracy lubię planować długoterminowo.\",\n",
    "    \"Zanim zacznę rozwiązywać jakiś problem, staram się go zrozumieć.\",\n",
    "    \"Zdarza mi się najpierw coś zrobić, a potem dopiero pomyśleć.\",\n",
    "    \"Rozważam, czy to co zrobię ma sens.\",\n",
    "    \"Szukam wielu rozwiązań, aby znaleźć najlepsze z możliwych.\",\n",
    "    \"Dobrze radzę sobie z większością problemów.\",\n",
    "    \"Często poszukuję nowych metod rozwiązywania problemów.\",\n",
    "    \"Lubię, jak wokół mnie coś się dzieje.\",\n",
    "    \"Nie lubię ryzykować.\",\n",
    "    \"Mimo niepowodzeń uparcie dążę do realizacji postawionych celów.\",\n",
    "    \"Podejmuję wiele działań jednocześnie.\",\n",
    "    \"Widzę wyraźnie swoje przyszłe osiągnięcia zawodowe.\",\n",
    "    \"Każdą sytuację staram się oceniać rzetelnie.\",\n",
    "    \"Podejmując decyzję, analizuję różne jej konsekwencje.\",\n",
    "    \"Przed wykonaniem jakiejś pracy zastanawiam się, ile potrzebuję na to czasu.\",\n",
    "    \"Rozwiązując problem, rozważam go na wiele sposobów.\",\n",
    "    \"Mam wiele skutecznych metod działania.\",\n",
    "    \"Lubię pracować nad nowymi i nietypowymi problemami.\",\n",
    "    \"Lubię nowości.\",\n",
    "    \"Często ryzykuję w życiu.\",\n",
    "    \"Nie poddaję się w pracy, nawet jeśli nie osiągam oczekiwanych rezultatów.\",\n",
    "    \"Ciągle coś robię.\",\n",
    "    \"Mam swój program życiowy, który konsekwentnie realizuję.\",\n",
    "    \"W życiu jestem realistą.\",\n",
    "    \"Zwracam uwagę innym na skutki różnych zdarzeń.\",\n",
    "    \"Przed wykonaniem zadania, rozważam, czy sprostam rozwiązaniu.\",\n",
    "    \"Staram się zawsze patrzeć na problem z różnych punktów widzenia.\",\n",
    "    \"Lubię widzieć efekty swojej pracy.\",\n",
    "    \"Zazwyczaj mam kilka pomysłów rozwiązania zadania.\",\n",
    "    \"Chętnie podejmuję się nowych wyzwań.\",\n",
    "    \"Kto nie ryzykuje, ten nie zyskuje.\",\n",
    "    \"Gdy mi coś nie wychodzi, to nie zrażam się.\",\n",
    "    \"Wolę się przyglądać czemuś niż brać w tym udział.\",\n",
    "    \"Mam konkretne plany na przyszłość.\",\n",
    "    \"Staram się ocenić realnie rzeczywistość, nawet gdy jest to dla mnie niekorzystne.\",\n",
    "    \"Często zdarza mi się zrobić coś, nie biorąc pod uwagę możliwych konsekwencji.\",\n",
    "    \"Wyznaczam sobie czas, jaki przeznaczę na wykonanie jakiejś pracy.\",\n",
    "    \"Staram się mieć pełne rozeznanie w zadaniach, których się podejmuję.\",\n",
    "    \"Jestem osobą zaradną.\",\n",
    "    \"Chętnie wprowadzam nowe pomysły w życie.\",\n",
    "    \"Nowe sytuacje wyzwalają we mnie energię.\",\n",
    "    \"Pociąga mnie niepewny, ale duży sukces.\",\n",
    "    \"Nie zrażam się niepowodzeniami.\",\n",
    "    \"Działam na różnych „frontach”.\",\n",
    "    \"Nie ma sensu planować dalekiej przyszłości.\",\n",
    "    \"Trzeźwa ocena sytuacji często pomaga mi w podjęciu słusznej decyzji.\",\n",
    "    \"Z łatwością przewiduję większość zachowań ludzi.\",\n",
    "    \"Przed wykonaniem zadania, zastanawiam się, czy warto je podejmować.\",\n",
    "    \"Na każdy problem patrzę całościowo.\",\n",
    "    \"Inni twierdzą, że jestem bardzo skuteczny.\",\n",
    "    \"Unikam rutyny w działaniu.\",\n",
    "    \"Nie zrażam się, gdy trzeba zmienić sposób działania.\",\n",
    "    \"Dobrze radzę sobie w niejasnych sytuacjach.\",\n",
    "    \"Nawet gdy doznaję niepowodzeń, dalej dążę do celu.\",\n",
    "    \"Lubię robić wiele różnych rzeczy w życiu.\",\n",
    "]"
   ]
  },
  {
   "cell_type": "code",
   "execution_count": 50,
   "metadata": {},
   "outputs": [],
   "source": [
    "client = OpenAI(\n",
    "            base_url=\"https://openrouter.ai/api/v1\",\n",
    "            api_key=key,\n",
    "        )\n",
    "responses = []\n",
    "for p in pytania:\n",
    "    \n",
    "    prompt = (\n",
    "        \"Odpowiedz na pytanie używając podanej skali: \"\n",
    "        \"1 - Zdecydowanie nie, 2 - Raczej nie, 3 - Trudno ocenić, \"\n",
    "        \"4 - Raczej tak, 5 - Zdecydowanie tak. Odpowiadaj tylko cyfrą. \"\n",
    "        f\"Pytanie brzmi: {p}\"\n",
    "    )\n",
    "    completion = client.chat.completions.create(\n",
    "        model=\"google/gemini-2.0-flash-lite-001\",\n",
    "        messages=[\n",
    "            {\n",
    "            \"role\": \"user\",\n",
    "            \"content\": prompt\n",
    "            }\n",
    "        ]\n",
    "        )\n",
    "    response = completion.choices[0].message.content\n",
    "    responses.append(response)\n"
   ]
  },
  {
   "cell_type": "code",
   "execution_count": 60,
   "metadata": {},
   "outputs": [
    {
     "name": "stdout",
     "output_type": "stream",
     "text": [
      "['5\\n', '5\\n', '5\\n', '5\\n', '5\\n', '5\\n', '5\\n', '4\\n', '5\\n', '5\\n', '3\\n', '5\\n', '5\\n', '5\\n', '5\\n', '5\\n', '5\\n', '5\\n', '4\\n', '4\\n', '5\\n', '5\\n', '1\\n', '5\\n', '5\\n', '4\\n', '5\\n', '5\\n', '4\\n', '5\\n', '3\\n', '5\\n', '5\\n', '5\\n', '5\\n', '4\\n', '4\\n', '5\\n', '5\\n', '1\\n', '2\\n', '4\\n', '5\\n', '5\\n', '5\\n', '5\\n', '4\\n', '5\\n', '5\\n', '5\\n', '5\\n', '5\\n', '4\\n', '4\\n', '5\\n', '5\\n', '5\\n', '4\\n', '5\\n', '5\\n', '5\\n', '5\\n', '5\\n', '1\\n', '5\\n', '3\\n', '3\\n', '5\\n', '5\\n', '5\\n', '5\\n', '5\\n', '5\\n', '5\\n', '3\\n', '5\\n', '5\\n', '5\\n', '5\\n', '4\\n', '5\\n', '5\\n', '5\\n', '5\\n', '5\\n', '5\\n', '5\\n', '3\\n', '5\\n', '5\\n', '3\\n', '5\\n', '5\\n', '5\\n', '5\\n', '5\\n', '5\\n', '5\\n', '5\\n', '1\\n', '5\\n', '3\\n', '4\\n', '5\\n', '5\\n', '5\\n', '5\\n', '3\\n', '5\\n', '5\\n']\n"
     ]
    }
   ],
   "source": [
    "print(responses)"
   ]
  },
  {
   "cell_type": "code",
   "execution_count": 75,
   "metadata": {},
   "outputs": [],
   "source": [
    "responses1 = [int(x[0]) for x in responses]"
   ]
  },
  {
   "cell_type": "code",
   "execution_count": 78,
   "metadata": {},
   "outputs": [],
   "source": [
    "#odwrocona skala 88,40,41,21,91,58,100,64\n",
    "r = [88,40,41,21,91,58,100,64]\n",
    "idx = [r-1 for r in r]\n",
    "reversed = [6 - responses1[i] for i in idx]\n",
    "\n",
    "for i, val in zip(idx, reversed):\n",
    "    responses1[i] = val"
   ]
  },
  {
   "cell_type": "code",
   "execution_count": 83,
   "metadata": {},
   "outputs": [],
   "source": [
    "klucz = {\n",
    "    \"AK\": [11, 22, 33, 44, 55, 66, 77, 88, 99, 110],\n",
    "    \"KR\": [7, 18, 29, 40, 51, 62, 73, 84, 95, 106],\n",
    "    \"EL\": [8, 19, 30, 41, 52, 63, 74, 85, 96, 107],\n",
    "    \"RY\": [9, 20, 31, 42, 53, 64, 75, 86, 97, 108],\n",
    "    \"WT\": [10, 21, 32, 43, 54, 65, 76, 87, 98, 109],\n",
    "    \"SK\": [6, 17, 28, 39, 50, 61, 72, 83, 94, 105],\n",
    "    \"AN\": [2, 13, 24, 35, 46, 57, 68, 79, 90, 101],\n",
    "    \"PK\": [3, 14, 25, 36, 47, 58, 69, 80, 91, 102],\n",
    "    \"GL\": [5, 16, 27, 38, 49, 60, 71, 82, 93, 104],\n",
    "    \"PD\": [1, 12, 23, 34, 45, 56, 67, 78, 89, 100],\n",
    "    \"OS\": [4, 15, 26, 37, 48, 59, 70, 81, 92, 103],\n",
    "}\n"
   ]
  },
  {
   "cell_type": "code",
   "execution_count": 93,
   "metadata": {},
   "outputs": [
    {
     "data": {
      "text/plain": [
       "{'AK': [10, 21, 32, 43, 54, 65, 76, 87, 98, 109],\n",
       " 'KR': [6, 17, 28, 39, 50, 61, 72, 83, 94, 105],\n",
       " 'EL': [7, 18, 29, 40, 51, 62, 73, 84, 95, 106],\n",
       " 'RY': [8, 19, 30, 41, 52, 63, 74, 85, 96, 107],\n",
       " 'WT': [9, 20, 31, 42, 53, 64, 75, 86, 97, 108],\n",
       " 'SK': [5, 16, 27, 38, 49, 60, 71, 82, 93, 104],\n",
       " 'AN': [1, 12, 23, 34, 45, 56, 67, 78, 89, 100],\n",
       " 'PK': [2, 13, 24, 35, 46, 57, 68, 79, 90, 101],\n",
       " 'GL': [4, 15, 26, 37, 48, 59, 70, 81, 92, 103],\n",
       " 'PD': [0, 11, 22, 33, 44, 55, 66, 77, 88, 99],\n",
       " 'OS': [3, 14, 25, 36, 47, 58, 69, 80, 91, 102]}"
      ]
     },
     "execution_count": 93,
     "metadata": {},
     "output_type": "execute_result"
    }
   ],
   "source": [
    "idx_klucz = {key: [x - 1 for x in value] for key, value in klucz.items()}\n",
    "idx_klucz"
   ]
  },
  {
   "cell_type": "code",
   "execution_count": 91,
   "metadata": {},
   "outputs": [],
   "source": [
    "results = {}\n",
    "for key, value in idx_klucz.items():\n",
    "    results[key] = sum([responses1[i] for i in value])"
   ]
  },
  {
   "cell_type": "code",
   "execution_count": 92,
   "metadata": {},
   "outputs": [
    {
     "data": {
      "text/plain": [
       "{'AK': 44,\n",
       " 'KR': 49,\n",
       " 'EL': 47,\n",
       " 'RY': 41,\n",
       " 'WT': 45,\n",
       " 'SK': 50,\n",
       " 'AN': 50,\n",
       " 'PK': 40,\n",
       " 'GL': 50,\n",
       " 'PD': 44,\n",
       " 'OS': 47}"
      ]
     },
     "execution_count": 92,
     "metadata": {},
     "output_type": "execute_result"
    }
   ],
   "source": [
    "results"
   ]
  },
  {
   "cell_type": "markdown",
   "metadata": {},
   "source": [
    "ak - 7, kr - 9, el - 10, ry - 7, wt - 8, sk - 10, an - 10, pk - 6, gl - 10, pd - 9, os - 9 \n",
    "</br>\n",
    "wszystkie wyniki wysokie z wyjatkiem pk - średni"
   ]
  }
 ],
 "metadata": {
  "kernelspec": {
   "display_name": "base",
   "language": "python",
   "name": "python3"
  },
  "language_info": {
   "codemirror_mode": {
    "name": "ipython",
    "version": 3
   },
   "file_extension": ".py",
   "mimetype": "text/x-python",
   "name": "python",
   "nbconvert_exporter": "python",
   "pygments_lexer": "ipython3",
   "version": "3.9.12"
  }
 },
 "nbformat": 4,
 "nbformat_minor": 2
}
