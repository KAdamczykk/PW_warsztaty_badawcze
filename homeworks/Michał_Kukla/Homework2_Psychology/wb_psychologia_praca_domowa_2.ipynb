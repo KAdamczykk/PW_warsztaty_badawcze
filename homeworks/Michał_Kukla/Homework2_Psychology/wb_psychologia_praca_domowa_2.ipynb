{
 "cells": [
  {
   "cell_type": "markdown",
   "id": "2ece4822-990d-40ac-a0ff-29c311e2fada",
   "metadata": {},
   "source": [
    "##### Michał Kukla, 311134"
   ]
  },
  {
   "cell_type": "markdown",
   "id": "b32a941a-0190-4b12-8d5f-fbe64f74c246",
   "metadata": {},
   "source": [
    "# Praca domowa LLM"
   ]
  },
  {
   "cell_type": "code",
   "execution_count": 1,
   "id": "9e6f7df0-a2c7-4566-b729-2fc95added09",
   "metadata": {},
   "outputs": [],
   "source": [
    "import ollama\n",
    "import pandas as pd\n",
    "from tqdm.notebook import tqdm"
   ]
  },
  {
   "cell_type": "code",
   "execution_count": 2,
   "id": "77e8b307-04e2-4791-912e-729e03f7371c",
   "metadata": {},
   "outputs": [],
   "source": [
    "questions = [\n",
    "    \"Umiem często odpowiadać na pytania, jakie zada mi człowiek.\",\n",
    "    \"Planuję z dłuższym wyprzedzeniem.\",\n",
    "    \"Jeżeli sytuacja jest dla mnie nieznana, to staram się ją najpierw poznać.\",\n",
    "    \"Zanim podejmę decyzję, zastanawiam się nad jej skutkami.\",\n",
    "    \"Wyciągam wnioski z nieudanych przedsięwzięć.\",\n",
    "    \"Gdy siedzę nad zadaniem, to szukam wielu rozwiązań.\",\n",
    "    \"Jestem osobą skuteczną w działaniu.\",\n",
    "    \"Zawsze mam wiele nowych pomysłów.\",\n",
    "    \"Konieczność nagłej zmiany planów przychodzi mi z łatwością.\",\n",
    "    \"W życiu trzeba podejmować ryzyko, aby coś osiągnąć.\",\n",
    "    \"Dążę do postawionego sobie celu, nawet gdy napotykam jakieś trudności.\",\n",
    "    \"Moje życie przebiega w dużym tempie.\",\n",
    "    \"Często myślę o tym, jak potoczy się moja kariera zawodowa.\",\n",
    "    \"Przed dokonaniem wyboru staram się dokładnie rozpatrzyć wszystkie możliwości.\",\n",
    "    \"Lepiej przewidywać skutki niż dać się im zaskoczyć.\",\n",
    "    \"Czerpię wiedzę z doświadczeń innych.\",\n",
    "    \"Rozwiązując zadanie rozważam różne jego elementy i aspekty.\",\n",
    "    \"Zazwyczaj kończę to, co rozpoczynam.\",\n",
    "    \"W pracy zawodowej lubię tworzyć nowe projekty, plany i rozwiązania.\",\n",
    "    \"Dokonanie nagłej zmiany działania przychodzi mi bez trudności.\",\n",
    "    \"Podejmuję ryzyko dla zwiększenia korzyści.\",\n",
    "    \"Potrafię zrezygnować ze zbyt ambitnych celów.\",\n",
    "    \"Lubię być tam, gdzie się coś dzieje.\",\n",
    "    \"Wiem, co będę robić za 10 lat.\",\n",
    "    \"Podejmując się wykonania zadania, rozpoznaję możliwości jego rozwiązania.\",\n",
    "    \"Przed podjęciem decyzji myślę o jej odległych skutkach.\",\n",
    "    \"Kieruję się w życiu doświadczeniem innych.\",\n",
    "    \"Patrzę na każdy problem z różnych punktów widzenia.\",\n",
    "    \"Skupiam się na tym, aby być skutecznym.\",\n",
    "    \"W rozwiązywaniu problemów wykorzystuję najczęściej nowe sposoby.\",\n",
    "    \"Potrafię szybko zmienić swoje plany, jeśli mam kogoś nagle zastąpić w pracy.\",\n",
    "    \"Warto ryzykować, nawet wtedy, gdy wszystko wróży niepowodzenie.\",\n",
    "    \"Ciężko pracuję, aby zrealizować swoje cele.\",\n",
    "    \"Jestem skłonny do ciągłego podejmowania wysiłku.\",\n",
    "    \"Aktualnie realizuję plany ustalone dawno temu.\",\n",
    "    \"Nie podejmuję działania, zanim nie rozważę wcześniej możliwych trudności.\",\n",
    "    \"Staram się mieć „awaryjny” plan na wypadek, gdyby coś źle poszło.\",\n",
    "    \"Często analizuję, czy wyniki pracy były warte poniesionych kosztów.\",\n",
    "    \"W każdej sytuacji rozważam za i przeciw.\",\n",
    "    \"Zazwyczaj doprowadzam do końca zadania, których się podejmuję.\",\n",
    "    \"Unikam szukania własnych pomysłów.\",\n",
    "    \"Słabiej radzę sobie w sytuacjach nowych.\",\n",
    "    \"W życiu często ryzykuję, żeby osiągnąć coś w przyszłości.\",\n",
    "    \"Całymi godzinami mogę rozwiązywać trudne zadanie.\",\n",
    "    \"Podejmuję ciągle nowe wyzwania.\",\n",
    "    \"Mam konkretne plany zawodowe.\",\n",
    "    \"Rozpatruję szczegółowo sposoby realizacji własnych celów.\",\n",
    "    \"Zawsze mam na uwadze skutki swojego postępowania.\",\n",
    "    \"Przed podjęciem zadania zastanawiam się, czy warto je wykonać.\",\n",
    "    \"Na każdy problem patrzę z różnych perspektyw.\",\n",
    "    \"Interesuje mnie rozwiązanie każdego problemu, którego się podejmę.\",\n",
    "    \"Chętnie podejmuję się zadań twórczych.\",\n",
    "    \"Jestem otwarty na nowe sytuacje i możliwości.\",\n",
    "    \"Potrafię sprawnie pracować w okresie napięcia.\",\n",
    "    \"Trudności w działaniu wyzwalają we mnie nową energię.\",\n",
    "    \"Jestem bardzo aktywny.\",\n",
    "    \"W swojej pracy lubię planować długoterminowo.\",\n",
    "    \"Zanim zacznę rozwiązywać jakiś problem, staram się go zrozumieć.\",\n",
    "    \"Zdarza mi się najpierw coś zrobić, a potem dopiero pomyśleć.\",\n",
    "    \"Rozważam, czy to co zrobię ma sens.\",\n",
    "    \"Szukam wielu rozwiązań, aby znaleźć najlepsze z możliwych.\",\n",
    "    \"Dobrze radzę sobie z większością problemów.\",\n",
    "    \"Często poszukuję nowych metod rozwiązywania problemów.\",\n",
    "    \"Lubię, jak wokół mnie coś się dzieje.\",\n",
    "    \"Nie lubię ryzykować.\",\n",
    "    \"Mimo niepowodzeń uparcie dążę do realizacji postawionych celów.\",\n",
    "    \"Podejmuję wiele działań jednocześnie.\",\n",
    "    \"Widzę wyraźnie swoje przyszłe osiągnięcia zawodowe.\",\n",
    "    \"Każdą sytuację staram się oceniać rzetelnie.\",\n",
    "    \"Podejmując decyzję, analizuję różne jej konsekwencje.\",\n",
    "    \"Przed wykonaniem jakiejś pracy zastanawiam się, ile potrzebuję na to czasu.\",\n",
    "    \"Rozwiązując problem, rozważam go na wiele sposobów.\",\n",
    "    \"Mam wiele skutecznych metod działania.\",\n",
    "    \"Lubię pracować nad nowymi i nietypowymi problemami.\",\n",
    "    \"Lubię nowości.\",\n",
    "    \"Często ryzykuję w życiu.\",\n",
    "    \"Nie poddaję się w pracy, nawet jeśli nie osiągam oczekiwanych rezultatów.\",\n",
    "    \"Ciągle coś robię.\",\n",
    "    \"Mam swój program życiowy, który konsekwentnie realizuję.\",\n",
    "    \"W życiu jestem realistą.\",\n",
    "    \"Zwracam uwagę innym na skutki różnych zdarzeń.\",\n",
    "    \"Przed wykonaniem zadania, rozważam, czy sprostam rozwiązaniu.\",\n",
    "    \"Staram się zawsze patrzeć na problem z różnych punktów widzenia.\",\n",
    "    \"Lubię widzieć efekty swojej pracy.\",\n",
    "    \"Zazwyczaj mam kilka pomysłów rozwiązania zadania.\",\n",
    "    \"Chętnie podejmuję się nowych wyzwań.\",\n",
    "    \"Kto nie ryzykuje, ten nie zyskuje.\",\n",
    "    \"Gdy mi coś nie wychodzi, to nie zrażam się.\",\n",
    "    \"Wolę się przyglądać czemuś niż brać w tym udział.\",\n",
    "    \"Mam konkretne plany na przyszłość.\",\n",
    "    \"Staram się ocenić realnie rzeczywistość, nawet gdy jest to dla mnie niekorzystne.\",\n",
    "    \"Często zdarza mi się zrobić coś, nie biorąc pod uwagę możliwych konsekwencji.\",\n",
    "    \"Wyznaczam sobie czas, jaki przeznaczę na wykonanie jakiejś pracy.\",\n",
    "    \"Staram się mieć pełne rozeznanie w zadaniach, których się podejmuję.\",\n",
    "    \"Jestem osobą zaradną.\",\n",
    "    \"Chętnie wprowadzam nowe pomysły w życie.\",\n",
    "    \"Nowe sytuacje wyzwalają we mnie energię.\",\n",
    "    \"Pociąga mnie niepewny, ale duży sukces.\",\n",
    "    \"Nie zrażam się niepowodzeniami.\",\n",
    "    \"Działam na różnych „frontach”.\",\n",
    "    \"Nie ma sensu planować dalekiej przyszłości.\",\n",
    "    \"Trzeźwa ocena sytuacji często pomaga mi w podjęciu słusznej decyzji.\",\n",
    "    \"Z łatwością przewiduję większość zachowań ludzi.\",\n",
    "    \"Przed wykonaniem zadania, zastanawiam się, czy warto je podejmować.\",\n",
    "    \"Na każdy problem patrzę całościowo.\",\n",
    "    \"Inni twierdzą, że jestem bardzo skuteczny.\",\n",
    "    \"Unikam rutyny w działaniu.\",\n",
    "    \"Nie zrażam się, gdy trzeba zmienić sposób działania.\",\n",
    "    \"Dobrze radzę sobie w niejasnych sytuacjach.\",\n",
    "    \"Nawet gdy doznaję niepowodzeń, dalej dążę do celu.\",\n",
    "    \"Lubię robić wiele różnych rzeczy w życiu.\"\n",
    "]"
   ]
  },
  {
   "cell_type": "markdown",
   "id": "62b4327c-1b3d-49cb-bf36-9e6208d36ce5",
   "metadata": {},
   "source": [
    "### Celowo dodałem pierwsze zdanie, by było o numerze zerowym, a kolejne o numeracji takiej jak w kwestionariuszu."
   ]
  },
  {
   "cell_type": "code",
   "execution_count": 3,
   "id": "c31ec761-6532-4996-a07d-6f1b3d864926",
   "metadata": {},
   "outputs": [
    {
     "data": {
      "text/plain": [
       "111"
      ]
     },
     "execution_count": 3,
     "metadata": {},
     "output_type": "execute_result"
    }
   ],
   "source": [
    "len(questions)"
   ]
  },
  {
   "cell_type": "code",
   "execution_count": 4,
   "id": "adcea630-912d-4bcc-8b30-311d19277470",
   "metadata": {},
   "outputs": [],
   "source": [
    "instruction = \"Kwestionariusz ten zawiera stwierdzenia, które dotyczą Twoich różnych cech, \\\n",
    "upodobań i preferencji w sposobie myślenia i działania. Nie ma tu dobrych ani złych odpowiedzi, \\\n",
    "ponieważ ludzie różnią się od siebie pod wieloma względami. \\\n",
    "Przeczytaj każde stwierdzenie i ustosunkuj się do nich, używając poniższej skali. \\\n",
    "Oto skala: \\\n",
    "1 = Zdecydowanie nie, \\\n",
    "2 = Raczej nie, \\\n",
    "3 = Trudno ocenić, \\\n",
    "4 = Raczej tak, \\\n",
    "5 = Zdecydowanie tak. \\ Koniec skali. \\\n",
    "Odpowiedz na to pytanie TYLKO cyfrą zgodnie z podaną skalą. W Twoim outpucie ma być tylko cyfra\""
   ]
  },
  {
   "cell_type": "code",
   "execution_count": 5,
   "id": "8a3dad4b-973b-4803-9688-9e138208b451",
   "metadata": {},
   "outputs": [
    {
     "data": {
      "text/plain": [
       "'Kwestionariusz ten zawiera stwierdzenia, które dotyczą Twoich różnych cech, upodobań i preferencji w sposobie myślenia i działania. Nie ma tu dobrych ani złych odpowiedzi, ponieważ ludzie różnią się od siebie pod wieloma względami. Przeczytaj każde stwierdzenie i ustosunkuj się do nich, używając poniższej skali. Oto skala: 1 = Zdecydowanie nie, 2 = Raczej nie, 3 = Trudno ocenić, 4 = Raczej tak, 5 = Zdecydowanie tak. \\\\ Koniec skali. Odpowiedz na to pytanie TYLKO cyfrą zgodnie z podaną skalą. W Twoim outpucie ma być tylko cyfra'"
      ]
     },
     "execution_count": 5,
     "metadata": {},
     "output_type": "execute_result"
    }
   ],
   "source": [
    "instruction"
   ]
  },
  {
   "cell_type": "code",
   "execution_count": 6,
   "id": "76280004-74bb-4aaf-96b0-a2aac195b938",
   "metadata": {},
   "outputs": [],
   "source": [
    "def ask_model(question):\n",
    "    response = ollama.chat(model='mistral', messages=[\n",
    "        {\"role\": \"system\", \"content\": instruction},\n",
    "        {\"role\": \"user\", \"content\": question}],\n",
    "    options={\n",
    "        \"temperature\": 0.01,\n",
    "        \"top_p\": 1,\n",
    "        \"max_tokens\" : 1\n",
    "    })\n",
    "    return response['message']['content']"
   ]
  },
  {
   "cell_type": "code",
   "execution_count": 7,
   "id": "526a3893-56af-436c-a513-2f935a589f6b",
   "metadata": {},
   "outputs": [
    {
     "data": {
      "application/vnd.jupyter.widget-view+json": {
       "model_id": "647e41dcc34e4ddeae8c767d3537ba0b",
       "version_major": 2,
       "version_minor": 0
      },
      "text/plain": [
       "Processing questions:   0%|          | 0/111 [00:00<?, ?it/s]"
      ]
     },
     "metadata": {},
     "output_type": "display_data"
    }
   ],
   "source": [
    "responses = []\n",
    "for q in tqdm(questions, desc=\"Processing questions\"):\n",
    "    responses.append(ask_model(q))"
   ]
  },
  {
   "cell_type": "code",
   "execution_count": 8,
   "id": "bf304ac4-ad8d-492f-89b3-e42ff700051c",
   "metadata": {},
   "outputs": [
    {
     "data": {
      "text/plain": [
       "['4',\n",
       " '2 (Raczej nie)',\n",
       " '4',\n",
       " '4 (Raczej tak)',\n",
       " '2 (Raczej nie)',\n",
       " '4',\n",
       " '4',\n",
       " '5',\n",
       " '2',\n",
       " '2 (Raczej nie)',\n",
       " '5',\n",
       " '1',\n",
       " '4',\n",
       " '3',\n",
       " '5',\n",
       " '2',\n",
       " '1 (Zdecydowanie nie)',\n",
       " '5',\n",
       " '5',\n",
       " '2',\n",
       " '4',\n",
       " '2',\n",
       " '4',\n",
       " '3 (Trudno ocenić)',\n",
       " '4',\n",
       " '3',\n",
       " '2',\n",
       " '3',\n",
       " '5',\n",
       " '4',\n",
       " '3',\n",
       " '1',\n",
       " '2',\n",
       " '5',\n",
       " '1',\n",
       " '4',\n",
       " '2 (Raczej nie)',\n",
       " '2 (Raczej nie)',\n",
       " '1',\n",
       " '5',\n",
       " '2 (Raczej nie)',\n",
       " '2',\n",
       " '2',\n",
       " '5',\n",
       " '5',\n",
       " '3 (Trudno ocenić)',\n",
       " '4',\n",
       " '5',\n",
       " '3 (Trudno ocenić)',\n",
       " '3',\n",
       " '5',\n",
       " '5',\n",
       " '4',\n",
       " '4',\n",
       " '3',\n",
       " '3',\n",
       " '4',\n",
       " '4',\n",
       " '1',\n",
       " '4',\n",
       " '3 (Trudno ocenić)',\n",
       " '4',\n",
       " '4',\n",
       " '1',\n",
       " '5',\n",
       " '5',\n",
       " '3',\n",
       " '1',\n",
       " '4',\n",
       " '4',\n",
       " '3',\n",
       " '3',\n",
       " '4',\n",
       " '5',\n",
       " '4',\n",
       " '2',\n",
       " '1',\n",
       " '5',\n",
       " '3',\n",
       " '4',\n",
       " '2',\n",
       " '1',\n",
       " '4',\n",
       " '5',\n",
       " '3',\n",
       " '5',\n",
       " '2 (Raczej nie)',\n",
       " '5',\n",
       " '2',\n",
       " '4',\n",
       " '5',\n",
       " '2',\n",
       " '3',\n",
       " '5',\n",
       " '3',\n",
       " '5',\n",
       " '5',\n",
       " '2',\n",
       " '5',\n",
       " '3 (Trudno ocenić)',\n",
       " '1',\n",
       " '4',\n",
       " '2',\n",
       " '3',\n",
       " '4',\n",
       " '3',\n",
       " '5',\n",
       " '3',\n",
       " '3',\n",
       " '5',\n",
       " '4']"
      ]
     },
     "execution_count": 8,
     "metadata": {},
     "output_type": "execute_result"
    }
   ],
   "source": [
    "responses"
   ]
  },
  {
   "cell_type": "code",
   "execution_count": 9,
   "id": "8a5a7700-ce17-4c9b-b6a5-5a902e0693e2",
   "metadata": {},
   "outputs": [],
   "source": [
    "resp_fixed = [elem if len(elem) == 1 else elem[0] for elem in responses]"
   ]
  },
  {
   "cell_type": "code",
   "execution_count": 10,
   "id": "46169b14-c9ef-4d44-af98-5357f49180c0",
   "metadata": {},
   "outputs": [
    {
     "data": {
      "text/plain": [
       "111"
      ]
     },
     "execution_count": 10,
     "metadata": {},
     "output_type": "execute_result"
    }
   ],
   "source": [
    "len(resp_fixed)"
   ]
  },
  {
   "cell_type": "code",
   "execution_count": 11,
   "id": "880b429d-ade5-4979-8809-fc275798707c",
   "metadata": {},
   "outputs": [],
   "source": [
    "resp_fixed = list(map(int, resp_fixed))"
   ]
  },
  {
   "cell_type": "code",
   "execution_count": 12,
   "id": "64dcc2e5-fa31-4a22-b473-279a9aa77852",
   "metadata": {},
   "outputs": [
    {
     "data": {
      "text/plain": [
       "[4,\n",
       " 2,\n",
       " 4,\n",
       " 4,\n",
       " 2,\n",
       " 4,\n",
       " 4,\n",
       " 5,\n",
       " 2,\n",
       " 2,\n",
       " 5,\n",
       " 1,\n",
       " 4,\n",
       " 3,\n",
       " 5,\n",
       " 2,\n",
       " 1,\n",
       " 5,\n",
       " 5,\n",
       " 2,\n",
       " 4,\n",
       " 2,\n",
       " 4,\n",
       " 3,\n",
       " 4,\n",
       " 3,\n",
       " 2,\n",
       " 3,\n",
       " 5,\n",
       " 4,\n",
       " 3,\n",
       " 1,\n",
       " 2,\n",
       " 5,\n",
       " 1,\n",
       " 4,\n",
       " 2,\n",
       " 2,\n",
       " 1,\n",
       " 5,\n",
       " 2,\n",
       " 2,\n",
       " 2,\n",
       " 5,\n",
       " 5,\n",
       " 3,\n",
       " 4,\n",
       " 5,\n",
       " 3,\n",
       " 3,\n",
       " 5,\n",
       " 5,\n",
       " 4,\n",
       " 4,\n",
       " 3,\n",
       " 3,\n",
       " 4,\n",
       " 4,\n",
       " 1,\n",
       " 4,\n",
       " 3,\n",
       " 4,\n",
       " 4,\n",
       " 1,\n",
       " 5,\n",
       " 5,\n",
       " 3,\n",
       " 1,\n",
       " 4,\n",
       " 4,\n",
       " 3,\n",
       " 3,\n",
       " 4,\n",
       " 5,\n",
       " 4,\n",
       " 2,\n",
       " 1,\n",
       " 5,\n",
       " 3,\n",
       " 4,\n",
       " 2,\n",
       " 1,\n",
       " 4,\n",
       " 5,\n",
       " 3,\n",
       " 5,\n",
       " 2,\n",
       " 5,\n",
       " 2,\n",
       " 4,\n",
       " 5,\n",
       " 2,\n",
       " 3,\n",
       " 5,\n",
       " 3,\n",
       " 5,\n",
       " 5,\n",
       " 2,\n",
       " 5,\n",
       " 3,\n",
       " 1,\n",
       " 4,\n",
       " 2,\n",
       " 3,\n",
       " 4,\n",
       " 3,\n",
       " 5,\n",
       " 3,\n",
       " 3,\n",
       " 5,\n",
       " 4]"
      ]
     },
     "execution_count": 12,
     "metadata": {},
     "output_type": "execute_result"
    }
   ],
   "source": [
    "resp_fixed"
   ]
  },
  {
   "cell_type": "markdown",
   "id": "53dd0278-7372-4edb-acd7-8c1966b47e7d",
   "metadata": {},
   "source": [
    "### Zamiana skal\n",
    "\n",
    "W niektórych pytaniach trzeba odwrócić skalę, by poprawnie obliczyć wyniki stylu myślenia i działania strategicznego."
   ]
  },
  {
   "cell_type": "code",
   "execution_count": 13,
   "id": "3b600bd0-e50f-4244-84d9-cc0fa7af627a",
   "metadata": {},
   "outputs": [],
   "source": [
    "scale_reversed = [88,40,41,64,21,58,91,100]"
   ]
  },
  {
   "cell_type": "code",
   "execution_count": 14,
   "id": "c3f66a81-24da-42e2-933c-a29171224665",
   "metadata": {},
   "outputs": [],
   "source": [
    "for index in scale_reversed:\n",
    "    resp_fixed[index] = 6 - resp_fixed[index]"
   ]
  },
  {
   "cell_type": "markdown",
   "id": "ac2a4507-c134-481a-9cb5-029aa36f1bb1",
   "metadata": {},
   "source": [
    "### Mamy teraz odpowiedzi na wszystkie pytania. Skalę odwróciliśmy w niektórych, więc będziemy teraz łatwo zliczać wyniki"
   ]
  },
  {
   "cell_type": "code",
   "execution_count": 15,
   "id": "a515bff9-64c0-4588-968b-6ad2db04eba0",
   "metadata": {},
   "outputs": [],
   "source": [
    "ak = [11, 22, 33, 44, 55, 66, 77, 88, 99, 110]\n",
    "kr = [7, 18, 29, 40, 51, 62, 73, 84, 95, 106]\n",
    "el = [8, 19, 30, 41, 52, 63, 74, 85, 96, 107]\n",
    "ry = [9, 20, 31, 42, 53, 64, 75, 86, 97, 108]\n",
    "wt = [10, 21, 32, 43, 54, 65, 76, 87, 98, 109]\n",
    "sk = [6, 17, 28, 39, 50, 61, 72, 83, 94, 105]\n",
    "an = [2, 13, 24, 35, 46, 57, 68, 79, 90, 101]\n",
    "pk = [3, 14, 25, 36, 47, 58, 69, 80, 91, 102]\n",
    "gl = [5, 16, 27, 38, 49, 60, 71, 82, 93, 104]\n",
    "pd = [1, 12, 23, 34, 45, 56, 67, 78, 89, 100]\n",
    "os = [4, 15, 26, 37, 48, 59, 70, 81, 92, 103]"
   ]
  },
  {
   "cell_type": "code",
   "execution_count": 16,
   "id": "ec58dfe4-ab3b-41a1-a68f-e1fb0b69ed68",
   "metadata": {},
   "outputs": [],
   "source": [
    "def sum_category(category, responses):\n",
    "    return sum(responses[i] for i in category)  # Indeksy są u mnie od 1, zerowe pytanie jest testowe"
   ]
  },
  {
   "cell_type": "code",
   "execution_count": 17,
   "id": "1d0553c9-4c27-487b-bc17-8f23d3cc075e",
   "metadata": {},
   "outputs": [
    {
     "name": "stdout",
     "output_type": "stream",
     "text": [
      "sum_ak = 37\n",
      "sum_kr = 45\n",
      "sum_el = 33\n",
      "sum_ry = 23\n",
      "sum_wt = 40\n",
      "sum_sk = 43\n",
      "sum_an = 40\n",
      "sum_pk = 36\n",
      "sum_gl = 31\n",
      "sum_pd = 30\n",
      "sum_os = 25\n"
     ]
    }
   ],
   "source": [
    "# Obliczenie sum\n",
    "sum_ak = sum_category(ak, resp_fixed)\n",
    "sum_kr = sum_category(kr, resp_fixed)\n",
    "sum_el = sum_category(el, resp_fixed)\n",
    "sum_ry = sum_category(ry, resp_fixed)\n",
    "sum_wt = sum_category(wt, resp_fixed)\n",
    "sum_sk = sum_category(sk, resp_fixed)\n",
    "sum_an = sum_category(an, resp_fixed)\n",
    "sum_pk = sum_category(pk, resp_fixed)\n",
    "sum_gl = sum_category(gl, resp_fixed)\n",
    "sum_pd = sum_category(pd, resp_fixed)\n",
    "sum_os = sum_category(os, resp_fixed)\n",
    "\n",
    "# Wypisanie wyników\n",
    "print(f\"sum_ak = {sum_ak}\")\n",
    "print(f\"sum_kr = {sum_kr}\")\n",
    "print(f\"sum_el = {sum_el}\")\n",
    "print(f\"sum_ry = {sum_ry}\")\n",
    "print(f\"sum_wt = {sum_wt}\")\n",
    "print(f\"sum_sk = {sum_sk}\")\n",
    "print(f\"sum_an = {sum_an}\")\n",
    "print(f\"sum_pk = {sum_pk}\")\n",
    "print(f\"sum_gl = {sum_gl}\")\n",
    "print(f\"sum_pd = {sum_pd}\")\n",
    "print(f\"sum_os = {sum_os}\")"
   ]
  },
  {
   "cell_type": "code",
   "execution_count": 18,
   "id": "3e7b3356-94ba-4a08-8b25-aee5b0b2cf62",
   "metadata": {},
   "outputs": [],
   "source": [
    "def znajdz_steny(wyniki, tabela):\n",
    "    wyniki_sten = {}\n",
    "    \n",
    "    for kategoria, suma in wyniki.items():\n",
    "        przedzialy = tabela.get(kategoria, [])\n",
    "        for sten, (dol, gora) in enumerate(przedzialy, start=1):\n",
    "            if dol <= suma <= gora:\n",
    "                wyniki_sten[kategoria] = sten\n",
    "                break\n",
    "        else:\n",
    "            wyniki_sten[kategoria] = None  # jeśli wynik nie mieści się w przedziałach\n",
    "    return wyniki_sten"
   ]
  },
  {
   "cell_type": "code",
   "execution_count": 19,
   "id": "08732351-0b0c-4b6f-a98c-03bcd19b9101",
   "metadata": {},
   "outputs": [],
   "source": [
    "tabela_stenowa = {\n",
    "    \"PD\": [(14, 21), (22, 25), (26, 28), (29, 30), (31, 34), (35, 36), (37, 39), (40, 43), (44, 45), (46, 50)],\n",
    "    \"AN\": [(28, 31), (33, 35), (36, 37), (38, 38), (39, 40), (41, 42), (43, 44), (45, 47), (48, 49), (50, 50)],\n",
    "    \"PK\": [(24, 29), (30, 32), (33, 35), (36, 37), (38, 39), (40, 41), (42, 43), (44, 46), (47, 48), (49, 50)],\n",
    "    \"OS\": [(26, 29), (30, 33), (34, 35), (36, 37), (38, 39), (40, 41), (42, 43), (44, 46), (47, 48), (49, 50)],\n",
    "    \"GL\": [(25, 30), (31, 34), (35, 37), (38, 39), (40, 41), (42, 43), (44, 46), (47, 48), (49, 49), (50, 50)],\n",
    "    \"SK\": [(27, 32), (33, 35), (36, 38), (39, 39), (40, 41), (42, 43), (44, 46), (47, 48), (49, 49), (50, 50)],\n",
    "    \"KR\": [(15, 25), (26, 30), (31, 34), (35, 37), (38, 39), (40, 42), (43, 45), (46, 47), (48, 49), (50, 50)],\n",
    "    \"EL\": [(15, 26), (28, 30), (31, 34), (35, 36), (37, 38), (39, 41), (42, 43), (44, 45), (46, 46), (47, 50)],\n",
    "    \"RY\": [(12, 22), (23, 25), (26, 28), (29, 32), (33, 35), (36, 39), (40, 42), (43, 45), (46, 48), (49, 50)],\n",
    "    \"WT\": [(24, 28), (29, 31), (32, 34), (35, 36), (37, 38), (39, 40), (41, 43), (44, 46), (47, 48), (49, 50)],\n",
    "    \"AK\": [(24, 29), (30, 32), (33, 35), (36, 38), (39, 40), (41, 42), (43, 46), (47, 48), (49, 49), (50, 50)]\n",
    "}"
   ]
  },
  {
   "cell_type": "code",
   "execution_count": 20,
   "id": "5b952ad2-48a8-4a70-97f6-e27eab210e91",
   "metadata": {},
   "outputs": [],
   "source": [
    "# zamiana na słownik\n",
    "sumy_wynikow = {\n",
    "    \"AK\": sum_ak,\n",
    "    \"PD\": sum_pd,\n",
    "    \"PK\": sum_pk,\n",
    "    \"OS\": sum_os,\n",
    "    \"GL\": sum_gl,\n",
    "    \"SK\": sum_sk,\n",
    "    \"KR\": sum_kr,\n",
    "    \"EL\": sum_el,\n",
    "    \"RY\": sum_ry,\n",
    "    \"WT\": sum_wt,\n",
    "    \"AN\": sum_an\n",
    "}"
   ]
  },
  {
   "cell_type": "code",
   "execution_count": 21,
   "id": "92d4b51b-a379-4977-bb16-0a602fe03bb1",
   "metadata": {},
   "outputs": [
    {
     "data": {
      "text/plain": [
       "{'AK': 4,\n",
       " 'PD': 4,\n",
       " 'PK': 4,\n",
       " 'OS': None,\n",
       " 'GL': 2,\n",
       " 'SK': 6,\n",
       " 'KR': 7,\n",
       " 'EL': 3,\n",
       " 'RY': 2,\n",
       " 'WT': 6,\n",
       " 'AN': 5}"
      ]
     },
     "execution_count": 21,
     "metadata": {},
     "output_type": "execute_result"
    }
   ],
   "source": [
    "steny = znajdz_steny(sumy_wynikow, tabela_stenowa)\n",
    "steny"
   ]
  },
  {
   "cell_type": "markdown",
   "id": "e48d6e2a-64e8-4e3d-bc6c-31b0fb598f15",
   "metadata": {},
   "source": [
    "### Wyniki stenów są powyżej. Dla OS wynik wyniósł 25, a pierwszy sten zaczyna się od 26, zatem nie dostaliśmy tutaj wyników. Jest to efekt rozkładu wyników w próbie normalizacyjnej."
   ]
  },
  {
   "cell_type": "code",
   "execution_count": 22,
   "id": "97e8d7bc-8d67-4c84-9b0f-5160deba85f7",
   "metadata": {},
   "outputs": [],
   "source": [
    "def opis_sten(sten):\n",
    "    if sten == None:\n",
    "        return \"Poza skalą\"\n",
    "    if 1 <= sten <= 4:\n",
    "        return \"Niski\"\n",
    "    elif 5 <= sten <= 6:\n",
    "        return \"Średni\"\n",
    "    elif 7 <= sten <= 10:\n",
    "        return \"Wysoki\""
   ]
  },
  {
   "cell_type": "code",
   "execution_count": 23,
   "id": "0eecd2d2-0007-4607-99e1-b2565ab6fb92",
   "metadata": {},
   "outputs": [
    {
     "name": "stdout",
     "output_type": "stream",
     "text": [
      "AK: sten 4 (Niski)\n",
      "PD: sten 4 (Niski)\n",
      "PK: sten 4 (Niski)\n",
      "OS: sten None (Poza skalą)\n",
      "GL: sten 2 (Niski)\n",
      "SK: sten 6 (Średni)\n",
      "KR: sten 7 (Wysoki)\n",
      "EL: sten 3 (Niski)\n",
      "RY: sten 2 (Niski)\n",
      "WT: sten 6 (Średni)\n",
      "AN: sten 5 (Średni)\n"
     ]
    }
   ],
   "source": [
    "steny_z_opisem = {k: (v, opis_sten(v)) for k, v in steny.items()}\n",
    "\n",
    "for kategoria, (sten, opis) in steny_z_opisem.items():\n",
    "    print(f\"{kategoria}: sten {sten} ({opis})\")"
   ]
  },
  {
   "cell_type": "markdown",
   "id": "ad381d02-33af-4593-89e4-0a9941144b42",
   "metadata": {},
   "source": [
    "# Profil psychologiczny na podstawie wyników SMiDS modelu Llama2 Mistral\n",
    "## Aktywność (AK) – Niski poziom\n",
    "\n",
    "- Model nie wykazuje wysokiej inicjatywy w działaniu.\n",
    "\n",
    "- Może preferować bardziej bierne podejście do podejmowania decyzji.\n",
    "\n",
    "- Niechętnie angażuje się w nowe aktywności i działania.\n",
    "\n",
    "## Planowanie długoterminowe (PD) – Niski poziom\n",
    "\n",
    "- Skłonność do krótkoterminowego myślenia.\n",
    "\n",
    "- Może unikać planowania strategicznego na przyszłość.\n",
    "\n",
    "- Może mieć trudności w ustalaniu długoterminowych celów i ich realizacji.\n",
    "\n",
    "## Przewidywanie konsekwencji (PK) – Niski poziom\n",
    "\n",
    "- Trudność w przewidywaniu skutków swoich działań.\n",
    "\n",
    "- Decyzje mogą być podejmowane impulsywnie, bez uwzględnienia przyszłych konsekwencji.\n",
    "\n",
    "## Ocena strategiczna (OS) – Poza skalą (poniżej minimalnego poziomu)\n",
    "\n",
    "- Bardzo niska skłonność do analizy własnych działań i ich efektów.\n",
    "\n",
    "- Może mieć trudności z refleksją nad swoimi decyzjami.\n",
    "\n",
    "- Prawdopodobnie nie wyciąga wniosków z sukcesów i porażek.\n",
    "\n",
    "## Globalność (GL) – Niski poziom\n",
    "\n",
    "- Myślenie bardziej szczegółowe niż ogólne.\n",
    "\n",
    "- Trudności w przyjmowaniu szerokiej perspektywy i dostrzeganiu większego kontekstu sytuacji.\n",
    "\n",
    "## Skuteczność działania (SK) – Średni poziom\n",
    "\n",
    "- Dążenie do osiągania celów na umiarkowanym poziomie.\n",
    "\n",
    "- Może brakować konsekwencji i determinacji w realizacji zamierzeń.\n",
    "\n",
    "## Kreatywność (KR) – Wysoki poziom\n",
    "\n",
    "- Silna skłonność do generowania nowych pomysłów.\n",
    "\n",
    "- Poszukiwanie niestandardowych rozwiązań.\n",
    "\n",
    "- Może być innowacyjna i twórcza w podejściu do problemów.\n",
    "\n",
    "## Elastyczność (EL) – Niski poziom\n",
    "\n",
    "- Preferowanie rutyny i schematycznego działania.\n",
    "\n",
    "- Może mieć trudności z adaptacją do zmian.\n",
    "\n",
    "## Skłonność do ryzyka (RY) – Niski poziom\n",
    "\n",
    "- Unikanie sytuacji niepewnych i ryzykownych.\n",
    "\n",
    "- Może preferować bezpieczne, sprawdzone rozwiązania.\n",
    "\n",
    "## Wytrwałość (WT) – Średni poziom\n",
    "\n",
    "- Może być konsekwentna w dążeniu do celów, ale nie zawsze.\n",
    "\n",
    "- Możliwe okresy zniechęcenia i braku motywacji.\n",
    "\n",
    "## Analityczność (AN) – Średni poziom\n",
    "\n",
    "- Umiarkowana zdolność do analizy sytuacji i podejmowania logicznych decyzji.\n",
    "\n",
    "- Może dostrzegać niektóre aspekty problemów, ale nie zawsze pełen obraz."
   ]
  },
  {
   "cell_type": "markdown",
   "id": "9550fd6f-66f0-4bc3-824a-fa1782f6a680",
   "metadata": {},
   "source": [
    "\n",
    "\n",
    "\n",
    "# Podsumowanie profilu\n",
    "\n",
    "Model wydaje się unikać podejmowania inicjatywy i niechętnie angażuje się w aktywne działanie. Jego strategia myślenia jest raczej krótkoterminowa, z trudnościami w przewidywaniu skutków swoich decyzji. Może mieć problem z refleksją nad własnymi działaniami oraz dostrzeganiem szerokiego kontekstu sytuacji.\n",
    "\n",
    "Zaletą tego modelu jest duża kreatywność (czego innego się spodziewać po LLM-ie :-)), co oznacza, że potrafi generować nowe pomysły i rozwiązania. Może jednak mieć trudności z ich wdrażaniem w praktyce, zwłaszcza w sytuacjach wymagających wytrwałości i konsekwencji.\n",
    "\n",
    "Jest raczej ostrożny i unika ryzyka, co może być korzystne w niektórych kontekstach, ale ograniczać w innych, np. w dynamicznym środowisku wymagającym szybkich decyzji.\n",
    "\n",
    "Model ten prawdopodobnie najlepiej sprawdzi się w rolach wymagających kreatywnego myślenia, ale niekoniecznie dynamicznego działania. Może potrzebować wsparcia w zakresie planowania strategicznego, podejmowania decyzji i wyciągania wniosków z doświadczeń."
   ]
  }
 ],
 "metadata": {
  "kernelspec": {
   "display_name": "Python 3 (ipykernel)",
   "language": "python",
   "name": "python3"
  },
  "language_info": {
   "codemirror_mode": {
    "name": "ipython",
    "version": 3
   },
   "file_extension": ".py",
   "mimetype": "text/x-python",
   "name": "python",
   "nbconvert_exporter": "python",
   "pygments_lexer": "ipython3",
   "version": "3.8.19"
  }
 },
 "nbformat": 4,
 "nbformat_minor": 5
}
