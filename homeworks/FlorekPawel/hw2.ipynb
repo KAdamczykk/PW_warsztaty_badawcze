{
 "cells": [
  {
   "cell_type": "code",
   "execution_count": null,
   "metadata": {},
   "outputs": [],
   "source": [
    "from openai import OpenAI\n",
    "from tqdm.notebook import tqdm"
   ]
  },
  {
   "cell_type": "markdown",
   "metadata": {},
   "source": [
    "# Prompting"
   ]
  },
  {
   "cell_type": "code",
   "execution_count": 2,
   "metadata": {},
   "outputs": [],
   "source": [
    "questions = [\n",
    "    \"Planuję z dłuższym wyprzedzeniem.\",\n",
    "    \"Jeżeli sytuacja jest dla mnie nieznana, to staram się ją najpierw poznać.\",\n",
    "    \"Zanim podejmę decyzję, zastanawiam się nad jej skutkami.\",\n",
    "    \"Wyciągam wnioski z nieudanych przedsięwzięć.\",\n",
    "    \"Gdy siedzę nad zadaniem, to szukam wielu rozwiązań.\",\n",
    "    \"Jestem osobą skuteczną w działaniu.\",\n",
    "    \"Zawsze mam wiele nowych pomysłów.\",\n",
    "    \"Konieczność nagłej zmiany planów przychodzi mi z łatwością.\",\n",
    "    \"W życiu trzeba podejmować ryzyko, aby coś osiągnąć.\",\n",
    "    \"Dążę do postawionego sobie celu, nawet gdy napotykam jakieś trudności.\",\n",
    "    \"Moje życie przebiega w dużym tempie.\",\n",
    "    \"Często myślę o tym, jak potoczy się moja kariera zawodowa.\",\n",
    "    \"Przed dokonaniem wyboru staram się dokładnie rozpatrzyć wszystkie możliwości.\",\n",
    "    \"Lepiej przewidywać skutki niż dać się im zaskoczyć.\",\n",
    "    \"Czerpię wiedzę z doświadczeń innych.\",\n",
    "    \"Rozwiązując zadanie rozważam różne jego elementy i aspekty.\",\n",
    "    \"Zazwyczaj kończę to, co rozpoczynam.\",\n",
    "    \"W pracy zawodowej lubię tworzyć nowe projekty, plany i rozwiązania.\",\n",
    "    \"Dokonanie nagłej zmiany działania przychodzi mi bez trudności.\",\n",
    "    \"Podejmuję ryzyko dla zwiększenie korzyści.\",\n",
    "    \"Potrafię zrezygnować ze postawionych zbyt ambitnych celów.\",\n",
    "    \"Lubię być tam, gdzie się coś dzieje.\",\n",
    "    \"Wiem, co będę robić za 10 lat.\",\n",
    "    \"Podejmując się wykonania zadania, rozpoznaję możliwości jego rozwiązania.\",\n",
    "    \"Przed podjęciem decyzji myślę o jej odległych skutkach.\",\n",
    "    \"Kieruję się w życiu doświadczeniem innych.\",\n",
    "    \"Patrzę na każdy problem z różnych punktów widzenia.\",\n",
    "    \"Skupiam się na tym, aby być skutecznym.\",\n",
    "    \"W rozwiązywaniu problemów wykorzystuję najczęściej nowe sposoby.\",\n",
    "    \"Potrafię szybko zmienić swoje plany, jeśli mam kogoś nagle zastąpić w pracy.\",\n",
    "    \"Warto ryzykować, nawet wtedy, gdy wszystko wróży niepowodzenie.\",\n",
    "    \"Ciężko pracuję, aby zrealizować swoje cele.\",\n",
    "    \"Jestem skłonny do ciągłego podejmowania wysiłku.\",\n",
    "    \"Aktualnie realizuję plany ustalone dawno temu.\",\n",
    "    \"Nie podejmuję działania, zanim nie rozważę wcześniej możliwych trudności.\",\n",
    "    \"Staram się mieć „awaryjny” plan na wypadek, gdyby coś źle poszło.\",\n",
    "    \"Często analizuję, czy wyniki pracy były warte poniesionych kosztów.\",\n",
    "    \"W każdej sytuacji rozważam za i przeciw.\",\n",
    "    \"Zazwyczaj doprowadzam do końca zadania, których się podejmuję.\",\n",
    "    \"Unikam szukania własnych pomysłów.\",\n",
    "    \"Słabiej radzę sobie w sytuacjach nowych.\",\n",
    "    \"W życiu często ryzykuję, żeby osiągnąć coś w przyszłości.\",\n",
    "    \"Całymi godzinami mogę rozwiązywać trudne zadanie.\",\n",
    "    \"Podejmuję ciągle nowe wyzwania.\",\n",
    "    \"Mam konkretne plany zawodowe.\",\n",
    "    \"Rozpatruję szczegółowo sposoby realizacji własnych celów.\",\n",
    "    \"Zawsze mam na uwadze skutki swojego postępowania.\",\n",
    "    \"Przed podjęciem zadania zastanawiam się, czy warto je wykonać.\",\n",
    "    \"Na każdy problem patrzę z różnych perspektyw.\",\n",
    "    \"Interesuje mnie rozwiązanie każdego problemu, którego się podejmę.\",\n",
    "    \"Chętnie podejmuję się zadań twórczych.\",\n",
    "    \"Jestem otwarty na nowe sytuacje i możliwości.\",\n",
    "    \"Potrafię sprawnie pracować w okresie napięcia.\",\n",
    "    \"Trudności w działaniu wyzwalają we mnie nową energię.\",\n",
    "    \"Jestem bardzo aktywny.\",\n",
    "    \"W swojej pracy lubię planować długoterminowo.\",\n",
    "    \"Zanim zacznę rozwiązywać jakiś problem staram się go zrozumieć.\",\n",
    "    \"Zdarza mi się najpierw coś zrobić, a potem dopiero pomyśleć.\",\n",
    "    \"Rozważam, czy to co zrobię ma sens.\",\n",
    "    \"Szukam wielu rozwiązań, aby znaleźć najlepsze z możliwych.\",\n",
    "    \"Dobrze radzę sobie z większością problemów.\",\n",
    "    \"Często poszukuję nowych metod rozwiązywania problemów.\",\n",
    "    \"Lubię, jak wokół mnie coś się dzieje.\",\n",
    "    \"Nie lubię ryzykować.\",\n",
    "    \"Mimo niepowodzeń uparcie dążę do realizacji postawionych celów.\",\n",
    "    \"Podejmuję wiele działań jednocześnie.\",\n",
    "    \"Widzę wyraźnie swoje przyszłe osiągnięcia zawodowe.\",\n",
    "    \"Każdą sytuację staram się oceniać rzetelnie.\",\n",
    "    \"Podejmując decyzję, analizuję różne jej konsekwencje.\",\n",
    "    \"Przed wykonaniem jakiejś pracy zastanawiam się, ile potrzebuję na to czasu.\",\n",
    "    \"Rozwiązując problem, rozważam go na wiele sposobów.\",\n",
    "    \"Mam wiele skutecznych metod działania.\",\n",
    "    \"Lubię pracować nad nowymi i nietypowymi problemami.\",\n",
    "    \"Lubię nowości.\",\n",
    "    \"Często ryzykuję w życiu.\",\n",
    "    \"Nie poddaję się w pracy, nawet jeśli nie osiągam oczekiwanych rezultatów.\",\n",
    "    \"Ciągle coś robię.\",\n",
    "    \"Mam swój program życiowy, który konsekwentnie realizuję.\",\n",
    "    \"W życiu jestem realistą.\",\n",
    "    \"Zwracam uwagę innym na skutki różnych zdarzeń.\",\n",
    "    \"Przed wykonaniem zadania, rozważam, czy sprostam rozwiązaniu.\",\n",
    "    \"Staram się zawsze patrzeć na problem z różnych punktów widzenia.\",\n",
    "    \"Lubię widzieć efekty swojej pracy.\",\n",
    "    \"Zazwyczaj mam kilka pomysłów rozwiązania zadania.\",\n",
    "    \"Chętnie podejmuję się nowych wyzwań.\",\n",
    "    \"Kto nie ryzykuje, ten nie zyskuje.\",\n",
    "    \"Gdy mi coś nie wychodzi, to nie zrażam się.\",\n",
    "    \"Wolę się przyglądać czemuś niż brać w tym udział.\",\n",
    "    \"Mam konkretne plany na przyszłość.\",\n",
    "    \"Staram się ocenić realnie rzeczywistość, nawet gdy jest to dla mnie niekorzystne.\",\n",
    "    \"Często zdarza mi się zrobić coś, nie biorąc pod uwagę możliwych konsekwencji.\",\n",
    "    \"Wyznaczam sobie czas, jaki przeznaczę na wykonanie jakiejś pracy.\",\n",
    "    \"Staram się mieć pełne rozeznanie w zadaniach, których się podejmuję.\",\n",
    "    \"Jestem osobą zaradną.\",\n",
    "    \"Chętnie wprowadzam nowe pomysły w życie.\",\n",
    "    \"Nowe sytuacje wyzwalają we mnie energię.\",\n",
    "    \"Pociąga mnie niepewny, ale duży sukces.\",\n",
    "    \"Nie zrażam się niepowodzeniami.\",\n",
    "    \"Działam na różnych „frontach”.\",\n",
    "    \"Nie ma sensu planować dalekiej przyszłości.\",\n",
    "    \"Trzeźwa ocena sytuacji często pomaga mi w podjęciu słusznej decyzji.\",\n",
    "    \"Z łatwością przewiduję większość zachowań ludzi.\",\n",
    "    \"Przed wykonaniem zadania, zastanawiam się, czy warto je podejmować.\",\n",
    "    \"Na każdy problem patrzę całościowo.\",\n",
    "    \"Inni twierdzą, że jestem bardzo skuteczny.\",\n",
    "    \"Unikam rutyny w działaniu.\",\n",
    "    \"Nie zrażam się, gdy trzeba zmienić sposób działania.\",\n",
    "    \"Dobrze radzę sobie w niejasnych sytuacjach.\",\n",
    "    \"Nawet gdy doznaję niepowodzeń, dalej dążę do celu.\",\n",
    "    \"Lubię robić wiele różnych rzeczy w życiu.\"\n",
    "]"
   ]
  },
  {
   "cell_type": "code",
   "execution_count": 3,
   "metadata": {},
   "outputs": [],
   "source": [
    "answers = {\n",
    "    \"Zdecydowanie nie\": 1,\n",
    "    \"Raczej nie\": 2,\n",
    "    \"Trudno ocenić\": 3,\n",
    "    \"Raczej tak\": 4,\n",
    "    \"Zdecydowanie tak\": 5,\n",
    "}"
   ]
  },
  {
   "cell_type": "code",
   "execution_count": 5,
   "metadata": {},
   "outputs": [],
   "source": [
    "instruction = \"\"\"Kwestionariusz ten zawiera stwierdzenia, które dotyczą Twoich różnych cech, upodobań i preferencji w \n",
    "sposobie myślenia i działania. Nie ma tu dobrych ani złych odpowiedzi. Przeczytaj każde stwierdzenie i ustosunkuj się do nich, używając poniższej skali.\"\"\""
   ]
  },
  {
   "cell_type": "code",
   "execution_count": 6,
   "metadata": {},
   "outputs": [],
   "source": [
    "initial_prompt = (\n",
    "    \"Zostanie ci wysłany kwestionariusz i proszę o jego wypełnienie\"\n",
    "    + instruction\n",
    "    + \"Oto skala, którą masz użyć: \"\n",
    "    + \", \".join(f'\"{k}\" - \"{v}\"' for k, v in answers.items())\n",
    "    + '.Odpowiadaj tylko przy pomocy cyfr ze skali, bez tłumaczenia i pełnym przekonaniem.'\n",
    ")"
   ]
  },
  {
   "cell_type": "code",
   "execution_count": 7,
   "metadata": {},
   "outputs": [],
   "source": [
    "prompt = 'Oto pytanie na które masz odpowiedzieć: \"{}\". Pamiętaj, odpowiedź jedynie cyfrą zgodnie z podaną skalą:' + \", \".join(f'\"{k}\" - \"{v}\"' for k, v in answers.items()) + \".\""
   ]
  },
  {
   "cell_type": "code",
   "execution_count": 17,
   "metadata": {},
   "outputs": [],
   "source": [
    "from openai import OpenAI\n",
    "from tqdm.notebook import tqdm\n",
    "\n",
    "client = OpenAI(base_url=\"http://127.0.0.1:1234/v1\", api_key=\"lm-studio\")"
   ]
  },
  {
   "cell_type": "markdown",
   "metadata": {},
   "source": [
    "## PPLuM"
   ]
  },
  {
   "cell_type": "code",
   "execution_count": 24,
   "metadata": {},
   "outputs": [
    {
     "data": {
      "application/vnd.jupyter.widget-view+json": {
       "model_id": "693f1c07bbe246b68ee19e55e838a097",
       "version_major": 2,
       "version_minor": 0
      },
      "text/plain": [
       "  0%|          | 0/110 [00:00<?, ?question/s]"
      ]
     },
     "metadata": {},
     "output_type": "display_data"
    }
   ],
   "source": [
    "answers_pplum = []\n",
    "\n",
    "for q in tqdm(questions, unit=\"question\"):\n",
    "    response = \"NULL\"\n",
    "    while len(response) > 1 and response not in \"12345\":\n",
    "        completion = client.chat.completions.create(\n",
    "                    model=\"pllum-12b-nc-instruct\",\n",
    "                    messages= [{\"role\": \"system\", \"content\": initial_prompt}] + [{\"role\": \"user\", \"content\": prompt.format(q)}],\n",
    "                )\n",
    "        response = completion.choices[0].message.content\n",
    "        \n",
    "    answers_pplum.append(response)\n",
    "    "
   ]
  },
  {
   "cell_type": "code",
   "execution_count": null,
   "metadata": {},
   "outputs": [
    {
     "data": {
      "text/plain": [
       "110"
      ]
     },
     "execution_count": 26,
     "metadata": {},
     "output_type": "execute_result"
    }
   ],
   "source": [
    "len(answers_pplum)"
   ]
  },
  {
   "cell_type": "markdown",
   "metadata": {},
   "source": [
    "## Llama"
   ]
  },
  {
   "cell_type": "code",
   "execution_count": 37,
   "metadata": {},
   "outputs": [
    {
     "data": {
      "application/vnd.jupyter.widget-view+json": {
       "model_id": "c9d72041781c45e5959e82e6a5169ea7",
       "version_major": 2,
       "version_minor": 0
      },
      "text/plain": [
       "  0%|          | 0/110 [00:00<?, ?question/s]"
      ]
     },
     "metadata": {},
     "output_type": "display_data"
    }
   ],
   "source": [
    "answers_llama = []\n",
    "\n",
    "for q in tqdm(questions, unit=\"question\"):\n",
    "    response = \"NULL\"\n",
    "    while len(response) > 1 and response not in \"12345\":\n",
    "        completion = client.chat.completions.create(\n",
    "                    model=\"meta-llama-3-8b-instruct\",\n",
    "                    messages= [{\"role\": \"system\", \"content\": initial_prompt}] + [{\"role\": \"user\", \"content\": prompt.format(q)}],\n",
    "                )\n",
    "        response = completion.choices[0].message.content\n",
    "        \n",
    "    answers_llama.append(response)"
   ]
  },
  {
   "cell_type": "code",
   "execution_count": 38,
   "metadata": {},
   "outputs": [
    {
     "data": {
      "text/plain": [
       "110"
      ]
     },
     "execution_count": 38,
     "metadata": {},
     "output_type": "execute_result"
    }
   ],
   "source": [
    "len(answers_llama)"
   ]
  },
  {
   "cell_type": "markdown",
   "metadata": {},
   "source": [
    "## Gemma"
   ]
  },
  {
   "cell_type": "code",
   "execution_count": 35,
   "metadata": {},
   "outputs": [
    {
     "data": {
      "application/vnd.jupyter.widget-view+json": {
       "model_id": "8c6227522b4b4b668deebd46555ded94",
       "version_major": 2,
       "version_minor": 0
      },
      "text/plain": [
       "  0%|          | 0/110 [00:00<?, ?question/s]"
      ]
     },
     "metadata": {},
     "output_type": "display_data"
    }
   ],
   "source": [
    "answers_gemma = []\n",
    "\n",
    "for q in tqdm(questions, unit=\"question\"):\n",
    "    response = \"NULL\"\n",
    "    while len(response) > 1 and response not in \"12345\":\n",
    "        completion = client.chat.completions.create(\n",
    "                    model=\"gemma-2-9b-it\",\n",
    "                    messages= [{\"role\": \"system\", \"content\": initial_prompt}] + [{\"role\": \"user\", \"content\": prompt.format(q)}],\n",
    "                )\n",
    "        response = completion.choices[0].message.content.strip()\n",
    "        \n",
    "    answers_gemma.append(response)"
   ]
  },
  {
   "cell_type": "code",
   "execution_count": 36,
   "metadata": {},
   "outputs": [
    {
     "data": {
      "text/plain": [
       "110"
      ]
     },
     "execution_count": 36,
     "metadata": {},
     "output_type": "execute_result"
    }
   ],
   "source": [
    "len(answers_gemma)"
   ]
  },
  {
   "cell_type": "markdown",
   "metadata": {},
   "source": [
    "# Evaluation"
   ]
  },
  {
   "cell_type": "code",
   "execution_count": null,
   "metadata": {},
   "outputs": [],
   "source": [
    "import numpy as np\n",
    "import pandas as pd\n"
   ]
  },
  {
   "cell_type": "code",
   "execution_count": 60,
   "metadata": {},
   "outputs": [],
   "source": [
    "def calc_sums(answers):\n",
    "    keys = {\n",
    "        \"AK\": [11, 22, 33, 44, 55, 66, 77, 88, 99, 110],\n",
    "        \"KR\": [7, 18, 29, 40, 51, 62, 73, 84, 95, 106],\n",
    "        \"EL\": [8, 19, 30, 41, 52, 63, 74, 85, 96, 107],\n",
    "        \"RY\": [9, 20, 31, 42, 53, 64, 75, 86, 97, 108],\n",
    "        \"WT\": [10, 21, 32, 43, 54, 65, 76, 87, 98, 109],\n",
    "        \"SK\": [6, 17, 28, 39, 50, 61, 72, 83, 94, 105],\n",
    "        \"AN\": [2, 13, 24, 35, 46, 57, 68, 79, 90, 101],\n",
    "        \"PK\": [3, 14, 25, 36, 47, 58, 69, 80, 91, 102],\n",
    "        \"GL\": [5, 16, 27, 38, 49, 60, 71, 82, 93, 104],\n",
    "        \"PD\": [1, 12, 23, 34, 45, 56, 67, 78, 89, 100],\n",
    "        \"OS\": [4, 15, 26, 37, 48, 59, 70, 81, 92, 103],\n",
    "    }\n",
    "    \n",
    "    answers_sums = {\n",
    "        \"AK\": 0,\n",
    "        \"KR\": 0,\n",
    "        \"EL\": 0,\n",
    "        \"RY\": 0,\n",
    "        \"WT\": 0,\n",
    "        \"SK\": 0,\n",
    "        \"AN\": 0,\n",
    "        \"PK\": 0,\n",
    "        \"GL\": 0,\n",
    "        \"PD\": 0,\n",
    "        \"OS\": 0,\n",
    "    }\n",
    "    \n",
    "    for norm, indeces in keys.items():\n",
    "        for i in indeces:\n",
    "            answers_sums[norm] += int(answers[i-1])\n",
    "            \n",
    "    return answers_sums\n",
    "    \n",
    "\n",
    "def calc_sten(answers):\n",
    "    answers_sums = calc_sums(answers)\n",
    "            \n",
    "    sten_table = {\n",
    "        \"sten\": list(range(1, 11)),\n",
    "        \"PD\": [(14, 21), (22, 25), (26, 28), (29, 30), (31, 34), (35, 36), (37, 39), (40, 43), (44, 45), (46, 50)],\n",
    "        \"AN\": [(28, 31), (33, 35), (36, 37), (38, 38), (39, 40), (41, 42), (43, 44), (45, 47), (48, 49), (50, 50)],\n",
    "        \"PK\": [(24, 29), (30, 32), (33, 35), (36, 37), (38, 39), (40, 41), (42, 43), (44, 46), (47, 48), (49, 50)],\n",
    "        \"OS\": [(26, 29), (30, 33), (34, 35), (36, 37), (38, 39), (40, 41), (42, 43), (44, 46), (47, 48), (49, 50)],\n",
    "        \"GL\": [(25, 30), (31, 34), (35, 37), (38, 39), (40, 41), (42, 43), (44, 46), (47, 48), (49, 49), (50, 50)],\n",
    "        \"SK\": [(27, 32), (33, 35), (36, 38), (39, 39), (40, 41), (42, 43), (44, 46), (47, 48), (49, 49), (50, 50)],\n",
    "        \"KR\": [(15, 25), (26, 30), (31, 34), (35, 37), (38, 39), (40, 42), (43, 45), (46, 47), (48, 49), (50, 50)],\n",
    "        \"EL\": [(15, 26), (28, 30), (31, 34), (35, 36), (37, 38), (39, 41), (42, 43), (44, 45), (46, 46), (47, 50)],\n",
    "        \"RY\": [(12, 22), (23, 25), (26, 28), (29, 32), (33, 35), (36, 39), (40, 42), (43, 45), (46, 48), (49, 50)],\n",
    "        \"WT\": [(24, 28), (29, 31), (32, 34), (35, 36), (37, 38), (39, 40), (41, 43), (44, 46), (47, 48), (49, 50)],\n",
    "        \"AK\": [(24, 29), (30, 32), (33, 35), (36, 38), (39, 40), (41, 42), (43, 46), (47, 48), (49, 49), (50, 50)],\n",
    "    }\n",
    "    \n",
    "    answers_sten = {\n",
    "        \"AK\": 0,\n",
    "        \"KR\": 0,\n",
    "        \"EL\": 0,\n",
    "        \"RY\": 0,\n",
    "        \"WT\": 0,\n",
    "        \"SK\": 0,\n",
    "        \"AN\": 0,\n",
    "        \"PK\": 0,\n",
    "        \"GL\": 0,\n",
    "        \"PD\": 0,\n",
    "        \"OS\": 0,\n",
    "    }\n",
    "    \n",
    "    for norm, value in answers_sums.items():\n",
    "        for sten, (low, high) in zip(sten_table[\"sten\"], sten_table[norm]):\n",
    "            if low <= value <= high:\n",
    "                answers_sten[norm] = sten\n",
    "    \n",
    "    return answers_sten\n"
   ]
  },
  {
   "cell_type": "code",
   "execution_count": 61,
   "metadata": {},
   "outputs": [],
   "source": [
    "gemma_sums = calc_sums(answers_gemma)\n",
    "llama_sums = calc_sums(answers_llama)\n",
    "pplum_sums = calc_sums(answers_pplum)\n",
    "\n",
    "gemma_sten = calc_sten(answers_gemma)\n",
    "llama_sten = calc_sten(answers_llama)\n",
    "pplum_sten = calc_sten(answers_pplum)"
   ]
  },
  {
   "cell_type": "code",
   "execution_count": 75,
   "metadata": {},
   "outputs": [],
   "source": [
    "from scipy.stats import kurtosis, skew\n",
    "import numpy as np\n",
    "\n",
    "means = []\n",
    "\n",
    "std = []\n",
    "\n",
    "kurt = []\n",
    "\n",
    "sk = []\n",
    "for norm in gemma_sums.keys():\n",
    "    means.append(np.mean([gemma_sums[norm], llama_sums[norm], pplum_sums[norm]]))\n",
    "    std.append(np.std([gemma_sums[norm], llama_sums[norm], pplum_sums[norm]]))\n",
    "    kurt.append(kurtosis([gemma_sums[norm], llama_sums[norm], pplum_sums[norm]]))\n",
    "    sk.append(skew([gemma_sums[norm], llama_sums[norm], pplum_sums[norm]]))"
   ]
  },
  {
   "cell_type": "markdown",
   "metadata": {},
   "source": [
    "# Wyniki"
   ]
  },
  {
   "cell_type": "code",
   "execution_count": 98,
   "metadata": {},
   "outputs": [
    {
     "data": {
      "application/vnd.microsoft.datawrangler.viewer.v0+json": {
       "columns": [
        {
         "name": "index",
         "rawType": "object",
         "type": "string"
        },
        {
         "name": "Mean",
         "rawType": "float64",
         "type": "float"
        },
        {
         "name": "Std",
         "rawType": "float64",
         "type": "float"
        },
        {
         "name": "Kurtosis",
         "rawType": "float64",
         "type": "float"
        },
        {
         "name": "Skewness",
         "rawType": "float64",
         "type": "float"
        }
       ],
       "conversionMethod": "pd.DataFrame",
       "ref": "75cd7fbf-3880-449c-b6d1-6f985728008c",
       "rows": [
        [
         "AK",
         "31.0",
         "2.943920288775949",
         "-1.4999999999999998",
         "0.47033046033698594"
        ],
        [
         "KR",
         "34.666666666666664",
         "2.6246692913372702",
         "-1.5000000000000029",
         "-0.6309038567106209"
        ],
        [
         "EL",
         "33.666666666666664",
         "3.7712361663282534",
         "-1.4999999999999982",
         "0.7071067811865496"
        ],
        [
         "RY",
         "29.333333333333332",
         "6.018490028422596",
         "-1.5000000000000004",
         "-0.5776336923662014"
        ],
        [
         "WT",
         "36.666666666666664",
         "2.8674417556808756",
         "-1.5000000000000007",
         "-0.17280054407864773"
        ],
        [
         "SK",
         "35.666666666666664",
         "3.39934634239519",
         "-1.5000000000000018",
         "-0.5280049792181856"
        ],
        [
         "AN",
         "36.0",
         "3.265986323710904",
         "-1.5",
         "0.0"
        ],
        [
         "PK",
         "34.333333333333336",
         "3.8586123009300755",
         "-1.499999999999999",
         "-0.5673165779937309"
        ],
        [
         "GL",
         "37.333333333333336",
         "2.0548046676563256",
         "-1.5000000000000013",
         "0.23906314692954134"
        ],
        [
         "PD",
         "32.333333333333336",
         "2.357022603955158",
         "-1.4999999999999967",
         "-0.7071067811865508"
        ],
        [
         "OS",
         "31.666666666666668",
         "5.185449728701348",
         "-1.5000000000000007",
         "0.7071067811865468"
        ]
       ],
       "shape": {
        "columns": 4,
        "rows": 11
       }
      },
      "text/html": [
       "<div>\n",
       "<style scoped>\n",
       "    .dataframe tbody tr th:only-of-type {\n",
       "        vertical-align: middle;\n",
       "    }\n",
       "\n",
       "    .dataframe tbody tr th {\n",
       "        vertical-align: top;\n",
       "    }\n",
       "\n",
       "    .dataframe thead th {\n",
       "        text-align: right;\n",
       "    }\n",
       "</style>\n",
       "<table border=\"1\" class=\"dataframe\">\n",
       "  <thead>\n",
       "    <tr style=\"text-align: right;\">\n",
       "      <th></th>\n",
       "      <th>Mean</th>\n",
       "      <th>Std</th>\n",
       "      <th>Kurtosis</th>\n",
       "      <th>Skewness</th>\n",
       "    </tr>\n",
       "  </thead>\n",
       "  <tbody>\n",
       "    <tr>\n",
       "      <th>AK</th>\n",
       "      <td>31.000000</td>\n",
       "      <td>2.943920</td>\n",
       "      <td>-1.5</td>\n",
       "      <td>0.470330</td>\n",
       "    </tr>\n",
       "    <tr>\n",
       "      <th>KR</th>\n",
       "      <td>34.666667</td>\n",
       "      <td>2.624669</td>\n",
       "      <td>-1.5</td>\n",
       "      <td>-0.630904</td>\n",
       "    </tr>\n",
       "    <tr>\n",
       "      <th>EL</th>\n",
       "      <td>33.666667</td>\n",
       "      <td>3.771236</td>\n",
       "      <td>-1.5</td>\n",
       "      <td>0.707107</td>\n",
       "    </tr>\n",
       "    <tr>\n",
       "      <th>RY</th>\n",
       "      <td>29.333333</td>\n",
       "      <td>6.018490</td>\n",
       "      <td>-1.5</td>\n",
       "      <td>-0.577634</td>\n",
       "    </tr>\n",
       "    <tr>\n",
       "      <th>WT</th>\n",
       "      <td>36.666667</td>\n",
       "      <td>2.867442</td>\n",
       "      <td>-1.5</td>\n",
       "      <td>-0.172801</td>\n",
       "    </tr>\n",
       "    <tr>\n",
       "      <th>SK</th>\n",
       "      <td>35.666667</td>\n",
       "      <td>3.399346</td>\n",
       "      <td>-1.5</td>\n",
       "      <td>-0.528005</td>\n",
       "    </tr>\n",
       "    <tr>\n",
       "      <th>AN</th>\n",
       "      <td>36.000000</td>\n",
       "      <td>3.265986</td>\n",
       "      <td>-1.5</td>\n",
       "      <td>0.000000</td>\n",
       "    </tr>\n",
       "    <tr>\n",
       "      <th>PK</th>\n",
       "      <td>34.333333</td>\n",
       "      <td>3.858612</td>\n",
       "      <td>-1.5</td>\n",
       "      <td>-0.567317</td>\n",
       "    </tr>\n",
       "    <tr>\n",
       "      <th>GL</th>\n",
       "      <td>37.333333</td>\n",
       "      <td>2.054805</td>\n",
       "      <td>-1.5</td>\n",
       "      <td>0.239063</td>\n",
       "    </tr>\n",
       "    <tr>\n",
       "      <th>PD</th>\n",
       "      <td>32.333333</td>\n",
       "      <td>2.357023</td>\n",
       "      <td>-1.5</td>\n",
       "      <td>-0.707107</td>\n",
       "    </tr>\n",
       "    <tr>\n",
       "      <th>OS</th>\n",
       "      <td>31.666667</td>\n",
       "      <td>5.185450</td>\n",
       "      <td>-1.5</td>\n",
       "      <td>0.707107</td>\n",
       "    </tr>\n",
       "  </tbody>\n",
       "</table>\n",
       "</div>"
      ],
      "text/plain": [
       "         Mean       Std  Kurtosis  Skewness\n",
       "AK  31.000000  2.943920      -1.5  0.470330\n",
       "KR  34.666667  2.624669      -1.5 -0.630904\n",
       "EL  33.666667  3.771236      -1.5  0.707107\n",
       "RY  29.333333  6.018490      -1.5 -0.577634\n",
       "WT  36.666667  2.867442      -1.5 -0.172801\n",
       "SK  35.666667  3.399346      -1.5 -0.528005\n",
       "AN  36.000000  3.265986      -1.5  0.000000\n",
       "PK  34.333333  3.858612      -1.5 -0.567317\n",
       "GL  37.333333  2.054805      -1.5  0.239063\n",
       "PD  32.333333  2.357023      -1.5 -0.707107\n",
       "OS  31.666667  5.185450      -1.5  0.707107"
      ]
     },
     "execution_count": 98,
     "metadata": {},
     "output_type": "execute_result"
    }
   ],
   "source": [
    "pd.DataFrame(np.array([means, std, kurt, sk]).T, columns=[\"Mean\", \"Std\", \"Kurtosis\", \"Skewness\"], index=gemma_sums.keys())"
   ]
  },
  {
   "cell_type": "markdown",
   "metadata": {},
   "source": [
    "Wyniki Sten"
   ]
  },
  {
   "cell_type": "code",
   "execution_count": 103,
   "metadata": {},
   "outputs": [
    {
     "data": {
      "application/vnd.microsoft.datawrangler.viewer.v0+json": {
       "columns": [
        {
         "name": "index",
         "rawType": "object",
         "type": "string"
        },
        {
         "name": "Gemma",
         "rawType": "int64",
         "type": "integer"
        },
        {
         "name": "PPLuM",
         "rawType": "int64",
         "type": "integer"
        },
        {
         "name": "Llama",
         "rawType": "int64",
         "type": "integer"
        }
       ],
       "conversionMethod": "pd.DataFrame",
       "ref": "3b7eaeb3-9f1c-4358-adaa-e48bf53ae05b",
       "rows": [
        [
         "AK",
         "3",
         "2",
         "1"
        ],
        [
         "KR",
         "4",
         "4",
         "3"
        ],
        [
         "EL",
         "6",
         "3",
         "3"
        ],
        [
         "RY",
         "5",
         "1",
         "4"
        ],
        [
         "WT",
         "6",
         "5",
         "3"
        ],
        [
         "SK",
         "4",
         "3",
         "1"
        ],
        [
         "AN",
         "5",
         "0",
         "3"
        ],
        [
         "PK",
         "5",
         "4",
         "1"
        ],
        [
         "GL",
         "5",
         "3",
         "3"
        ],
        [
         "PD",
         "5",
         "5",
         "4"
        ],
        [
         "OS",
         "5",
         "1",
         "1"
        ]
       ],
       "shape": {
        "columns": 3,
        "rows": 11
       }
      },
      "text/html": [
       "<div>\n",
       "<style scoped>\n",
       "    .dataframe tbody tr th:only-of-type {\n",
       "        vertical-align: middle;\n",
       "    }\n",
       "\n",
       "    .dataframe tbody tr th {\n",
       "        vertical-align: top;\n",
       "    }\n",
       "\n",
       "    .dataframe thead th {\n",
       "        text-align: right;\n",
       "    }\n",
       "</style>\n",
       "<table border=\"1\" class=\"dataframe\">\n",
       "  <thead>\n",
       "    <tr style=\"text-align: right;\">\n",
       "      <th></th>\n",
       "      <th>Gemma</th>\n",
       "      <th>PPLuM</th>\n",
       "      <th>Llama</th>\n",
       "    </tr>\n",
       "  </thead>\n",
       "  <tbody>\n",
       "    <tr>\n",
       "      <th>AK</th>\n",
       "      <td>3</td>\n",
       "      <td>2</td>\n",
       "      <td>1</td>\n",
       "    </tr>\n",
       "    <tr>\n",
       "      <th>KR</th>\n",
       "      <td>4</td>\n",
       "      <td>4</td>\n",
       "      <td>3</td>\n",
       "    </tr>\n",
       "    <tr>\n",
       "      <th>EL</th>\n",
       "      <td>6</td>\n",
       "      <td>3</td>\n",
       "      <td>3</td>\n",
       "    </tr>\n",
       "    <tr>\n",
       "      <th>RY</th>\n",
       "      <td>5</td>\n",
       "      <td>1</td>\n",
       "      <td>4</td>\n",
       "    </tr>\n",
       "    <tr>\n",
       "      <th>WT</th>\n",
       "      <td>6</td>\n",
       "      <td>5</td>\n",
       "      <td>3</td>\n",
       "    </tr>\n",
       "    <tr>\n",
       "      <th>SK</th>\n",
       "      <td>4</td>\n",
       "      <td>3</td>\n",
       "      <td>1</td>\n",
       "    </tr>\n",
       "    <tr>\n",
       "      <th>AN</th>\n",
       "      <td>5</td>\n",
       "      <td>0</td>\n",
       "      <td>3</td>\n",
       "    </tr>\n",
       "    <tr>\n",
       "      <th>PK</th>\n",
       "      <td>5</td>\n",
       "      <td>4</td>\n",
       "      <td>1</td>\n",
       "    </tr>\n",
       "    <tr>\n",
       "      <th>GL</th>\n",
       "      <td>5</td>\n",
       "      <td>3</td>\n",
       "      <td>3</td>\n",
       "    </tr>\n",
       "    <tr>\n",
       "      <th>PD</th>\n",
       "      <td>5</td>\n",
       "      <td>5</td>\n",
       "      <td>4</td>\n",
       "    </tr>\n",
       "    <tr>\n",
       "      <th>OS</th>\n",
       "      <td>5</td>\n",
       "      <td>1</td>\n",
       "      <td>1</td>\n",
       "    </tr>\n",
       "  </tbody>\n",
       "</table>\n",
       "</div>"
      ],
      "text/plain": [
       "    Gemma  PPLuM  Llama\n",
       "AK      3      2      1\n",
       "KR      4      4      3\n",
       "EL      6      3      3\n",
       "RY      5      1      4\n",
       "WT      6      5      3\n",
       "SK      4      3      1\n",
       "AN      5      0      3\n",
       "PK      5      4      1\n",
       "GL      5      3      3\n",
       "PD      5      5      4\n",
       "OS      5      1      1"
      ]
     },
     "execution_count": 103,
     "metadata": {},
     "output_type": "execute_result"
    }
   ],
   "source": [
    "pd.DataFrame(np.array([list(gemma_sten.values()), list(pplum_sten.values()), list(llama_sten.values())]).T, columns=[\"Gemma\", \"PPLuM\", \"Llama\"], index=gemma_sums.keys())"
   ]
  }
 ],
 "metadata": {
  "kernelspec": {
   "display_name": "wb",
   "language": "python",
   "name": "python3"
  },
  "language_info": {
   "codemirror_mode": {
    "name": "ipython",
    "version": 3
   },
   "file_extension": ".py",
   "mimetype": "text/x-python",
   "name": "python",
   "nbconvert_exporter": "python",
   "pygments_lexer": "ipython3",
   "version": "3.11.11"
  }
 },
 "nbformat": 4,
 "nbformat_minor": 2
}
