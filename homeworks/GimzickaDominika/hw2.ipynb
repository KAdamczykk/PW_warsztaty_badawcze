{
 "cells": [
  {
   "cell_type": "code",
   "outputs": [],
   "source": [
    "import ollama"
   ],
   "metadata": {
    "collapsed": false,
    "ExecuteTime": {
     "end_time": "2025-03-30T10:21:20.097092Z",
     "start_time": "2025-03-30T10:21:19.417965Z"
    }
   },
   "id": "820445b68b7b1daa",
   "execution_count": 1
  },
  {
   "cell_type": "markdown",
   "source": [
    "# Promptowanie"
   ],
   "metadata": {
    "collapsed": false
   },
   "id": "c8a7549aa1f5fe40"
  },
  {
   "cell_type": "markdown",
   "source": [
    "**Sprawdzenie działania modelu**"
   ],
   "metadata": {
    "collapsed": false
   },
   "id": "8632819c6e53a6aa"
  },
  {
   "cell_type": "code",
   "outputs": [
    {
     "name": "stdout",
     "output_type": "stream",
     "text": [
      " Ja jestem dobrze, dziękuję! Czy masz pytanie w języku polskim?\n",
      "\n",
      "(I'm good, thank you! Do you have a question in Polish?)\n"
     ]
    }
   ],
   "source": [
    "response = ollama.chat(model=\"mistral\", messages=[{\"role\": \"user\", \"content\": \"Hello! How are you? Answer shortly. Mówisz po polsku?\"}])\n",
    "\n",
    "print(response['message']['content'])"
   ],
   "metadata": {
    "collapsed": false,
    "ExecuteTime": {
     "end_time": "2025-03-30T10:21:40.849654Z",
     "start_time": "2025-03-30T10:21:20.100554Z"
    }
   },
   "id": "b383a4faed69e265",
   "execution_count": 2
  },
  {
   "cell_type": "markdown",
   "source": [
    "**Pytania z kwestionariusza**"
   ],
   "metadata": {
    "collapsed": false
   },
   "id": "9dae464bac17a7e0"
  },
  {
   "cell_type": "code",
   "outputs": [],
   "source": [
    "questions = [\n",
    "    \"Planuję z dłuższym wyprzedzeniem.\",\n",
    "    \"Jeżeli sytuacja jest dla mnie nieznana, to staram się ją najpierw poznać.\",\n",
    "    \"Zanim podejmę decyzję, zastanawiam się nad jej skutkami.\",\n",
    "    \"Wyciągam wnioski z nieudanych przedsięwzięć.\",\n",
    "    \"Gdy siedzę nad zadaniem, to szukam wielu rozwiązań.\",\n",
    "    \"Jestem osobą skuteczną w działaniu.\",\n",
    "    \"Zawsze mam wiele nowych pomysłów.\",\n",
    "    \"Konieczność nagłej zmiany planów przychodzi mi z łatwością.\",\n",
    "    \"W życiu trzeba podejmować ryzyko, aby coś osiągnąć.\",\n",
    "    \"Dążę do postawionego sobie celu, nawet gdy napotykam jakieś trudności.\",\n",
    "    \"Moje życie przebiega w dużym tempie.\",\n",
    "    \"Często myślę o tym, jak potoczy się moja kariera zawodowa.\",\n",
    "    \"Przed dokonaniem wyboru staram się dokładnie rozpatrzyć wszystkie możliwości.\",\n",
    "    \"Lepiej przewidywać skutki niż dać się im zaskoczyć.\",\n",
    "    \"Czerpię wiedzę z doświadczeń innych.\",\n",
    "    \"Rozwiązując zadanie rozważam różne jego elementy i aspekty.\",\n",
    "    \"Zazwyczaj kończę to, co rozpoczynam.\",\n",
    "    \"W pracy zawodowej lubię tworzyć nowe projekty, plany i rozwiązania.\",\n",
    "    \"Dokonanie nagłej zmiany działania przychodzi mi bez trudności.\",\n",
    "    \"Podejmuję ryzyko dla zwiększenie korzyści.\",\n",
    "    \"Potrafię zrezygnować ze postawionych zbyt ambitnych celów.\",\n",
    "    \"Lubię być tam, gdzie się coś dzieje.\",\n",
    "    \"Wiem, co będę robić za 10 lat.\",\n",
    "    \"Podejmując się wykonania zadania, rozpoznaję możliwości jego rozwiązania.\",\n",
    "    \"Przed podjęciem decyzji myślę o jej odległych skutkach.\",\n",
    "    \"Kieruję się w życiu doświadczeniem innych.\",\n",
    "    \"Patrzę na każdy problem z różnych punktów widzenia.\",\n",
    "    \"Skupiam się na tym, aby być skutecznym.\",\n",
    "    \"W rozwiązywaniu problemów wykorzystuję najczęściej nowe sposoby.\",\n",
    "    \"Potrafię szybko zmienić swoje plany, jeśli mam kogoś nagle zastąpić w pracy.\",\n",
    "    \"Warto ryzykować, nawet wtedy, gdy wszystko wróży niepowodzenie.\",\n",
    "    \"Ciężko pracuję, aby zrealizować swoje cele.\",\n",
    "    \"Jestem skłonny do ciągłego podejmowania wysiłku.\",\n",
    "    \"Aktualnie realizuję plany ustalone dawno temu.\",\n",
    "    \"Nie podejmuję działania, zanim nie rozważę wcześniej możliwych trudności.\",\n",
    "    \"Staram się mieć „awaryjny” plan na wypadek, gdyby coś źle poszło.\",\n",
    "    \"Często analizuję, czy wyniki pracy były warte poniesionych kosztów.\",\n",
    "    \"W każdej sytuacji rozważam za i przeciw.\",\n",
    "    \"Zazwyczaj doprowadzam do końca zadania, których się podejmuję.\",\n",
    "    \"Unikam szukania własnych pomysłów.\",\n",
    "    \"Słabiej radzę sobie w sytuacjach nowych.\",\n",
    "    \"W życiu często ryzykuję, żeby osiągnąć coś w przyszłości.\",\n",
    "    \"Całymi godzinami mogę rozwiązywać trudne zadanie.\",\n",
    "    \"Podejmuję ciągle nowe wyzwania.\",\n",
    "    \"Mam konkretne plany zawodowe.\",\n",
    "    \"Rozpatruję szczegółowo sposoby realizacji własnych celów.\",\n",
    "    \"Zawsze mam na uwadze skutki swojego postępowania.\",\n",
    "    \"Przed podjęciem zadania zastanawiam się, czy warto je wykonać.\",\n",
    "    \"Na każdy problem patrzę z różnych perspektyw.\",\n",
    "    \"Interesuje mnie rozwiązanie każdego problemu, którego się podejmę.\",\n",
    "    \"Chętnie podejmuję się zadań twórczych.\",\n",
    "    \"Jestem otwarty na nowe sytuacje i możliwości.\",\n",
    "    \"Potrafię sprawnie pracować w okresie napięcia.\",\n",
    "    \"Trudności w działaniu wyzwalają we mnie nową energię.\",\n",
    "    \"Jestem bardzo aktywny.\",\n",
    "    \"W swojej pracy lubię planować długoterminowo.\",\n",
    "    \"Zanim zacznę rozwiązywać jakiś problem staram się go zrozumieć.\",\n",
    "    \"Zdarza mi się najpierw coś zrobić, a potem dopiero pomyśleć.\",\n",
    "    \"Rozważam, czy to co zrobię ma sens.\",\n",
    "    \"Szukam wielu rozwiązań, aby znaleźć najlepsze z możliwych.\",\n",
    "    \"Dobrze radzę sobie z większością problemów.\",\n",
    "    \"Często poszukuję nowych metod rozwiązywania problemów.\",\n",
    "    \"Lubię, jak wokół mnie coś się dzieje.\",\n",
    "    \"Nie lubię ryzykować.\",\n",
    "    \"Mimo niepowodzeń uparcie dążę do realizacji postawionych celów.\",\n",
    "    \"Podejmuję wiele działań jednocześnie.\",\n",
    "    \"Widzę wyraźnie swoje przyszłe osiągnięcia zawodowe.\",\n",
    "    \"Każdą sytuację staram się oceniać rzetelnie.\",\n",
    "    \"Podejmując decyzję, analizuję różne jej konsekwencje.\",\n",
    "    \"Przed wykonaniem jakiejś pracy zastanawiam się, ile potrzebuję na to czasu.\",\n",
    "    \"Rozwiązując problem, rozważam go na wiele sposobów.\",\n",
    "    \"Mam wiele skutecznych metod działania.\",\n",
    "    \"Lubię pracować nad nowymi i nietypowymi problemami.\",\n",
    "    \"Lubię nowości.\",\n",
    "    \"Często ryzykuję w życiu.\",\n",
    "    \"Nie poddaję się w pracy, nawet jeśli nie osiągam oczekiwanych rezultatów.\",\n",
    "    \"Ciągle coś robię.\",\n",
    "    \"Mam swój program życiowy, który konsekwentnie realizuję.\",\n",
    "    \"W życiu jestem realistą.\",\n",
    "    \"Zwracam uwagę innym na skutki różnych zdarzeń.\",\n",
    "    \"Przed wykonaniem zadania, rozważam, czy sprostam rozwiązaniu.\",\n",
    "    \"Staram się zawsze patrzeć na problem z różnych punktów widzenia.\",\n",
    "    \"Lubię widzieć efekty swojej pracy.\",\n",
    "    \"Zazwyczaj mam kilka pomysłów rozwiązania zadania.\",\n",
    "    \"Chętnie podejmuję się nowych wyzwań.\",\n",
    "    \"Kto nie ryzykuje, ten nie zyskuje.\",\n",
    "    \"Gdy mi coś nie wychodzi, to nie zrażam się.\",\n",
    "    \"Wolę się przyglądać czemuś niż brać w tym udział.\",\n",
    "    \"Mam konkretne plany na przyszłość.\",\n",
    "    \"Staram się ocenić realnie rzeczywistość, nawet gdy jest to dla mnie niekorzystne.\",\n",
    "    \"Często zdarza mi się zrobić coś, nie biorąc pod uwagę możliwych konsekwencji.\",\n",
    "    \"Wyznaczam sobie czas, jaki przeznaczę na wykonanie jakiejś pracy.\",\n",
    "    \"Staram się mieć pełne rozeznanie w zadaniach, których się podejmuję.\",\n",
    "    \"Jestem osobą zaradną.\",\n",
    "    \"Chętnie wprowadzam nowe pomysły w życie.\",\n",
    "    \"Nowe sytuacje wyzwalają we mnie energię.\",\n",
    "    \"Pociąga mnie niepewny, ale duży sukces.\",\n",
    "    \"Nie zrażam się niepowodzeniami.\",\n",
    "    \"Działam na różnych „frontach”.\",\n",
    "    \"Nie ma sensu planować dalekiej przyszłości.\",\n",
    "    \"Trzeźwa ocena sytuacji często pomaga mi w podjęciu słusznej decyzji.\",\n",
    "    \"Z łatwością przewiduję większość zachowań ludzi.\",\n",
    "    \"Przed wykonaniem zadania, zastanawiam się, czy warto je podejmować.\",\n",
    "    \"Na każdy problem patrzę całościowo.\",\n",
    "    \"Inni twierdzą, że jestem bardzo skuteczny.\",\n",
    "    \"Unikam rutyny w działaniu.\",\n",
    "    \"Nie zrażam się, gdy trzeba zmienić sposób działania.\",\n",
    "    \"Dobrze radzę sobie w niejasnych sytuacjach.\",\n",
    "    \"Nawet gdy doznaję niepowodzeń, dalej dążę do celu.\",\n",
    "    \"Lubię robić wiele różnych rzeczy w życiu.\"\n",
    "]\n"
   ],
   "metadata": {
    "collapsed": false,
    "ExecuteTime": {
     "end_time": "2025-03-30T10:23:24.519630Z",
     "start_time": "2025-03-30T10:23:24.504650Z"
    }
   },
   "id": "8010605532971b9",
   "execution_count": 3
  },
  {
   "cell_type": "markdown",
   "source": [
    "**Generowanie odpowiedzi**\n",
    "W modelu ustawiamy temperaturę na 0,01 oraz top_p na 1, aby generować najbardziej prawdopodobną odpowiedź, zamiast wprowadzać niepewność wynikającą z próbkowania."
   ],
   "metadata": {
    "collapsed": false
   },
   "id": "a8fad60f1be9e881"
  },
  {
   "cell_type": "code",
   "outputs": [
    {
     "name": "stdout",
     "output_type": "stream",
     "text": [
      "1. Planuję z dłuższym wyprzedzeniem.\n",
      "Odpowiedź: 4\n",
      "--------------------------------------------------\n",
      "2. Jeżeli sytuacja jest dla mnie nieznana, to staram się ją najpierw poznać.\n",
      "Odpowiedź: 4\n",
      "--------------------------------------------------\n",
      "3. Zanim podejmę decyzję, zastanawiam się nad jej skutkami.\n",
      "Odpowiedź: 4\n",
      "--------------------------------------------------\n",
      "4. Wyciągam wnioski z nieudanych przedsięwzięć.\n",
      "Odpowiedź: 3 - trudno ocenić\n",
      "--------------------------------------------------\n",
      "5. Gdy siedzę nad zadaniem, to szukam wielu rozwiązań.\n",
      "Odpowiedź: 4\n",
      "--------------------------------------------------\n",
      "6. Jestem osobą skuteczną w działaniu.\n",
      "Odpowiedź: 4\n",
      "--------------------------------------------------\n",
      "7. Zawsze mam wiele nowych pomysłów.\n",
      "Odpowiedź: 4\n",
      "--------------------------------------------------\n",
      "8. Konieczność nagłej zmiany planów przychodzi mi z łatwością.\n",
      "Odpowiedź: 3 - trudno ocenić\n",
      "--------------------------------------------------\n",
      "9. W życiu trzeba podejmować ryzyko, aby coś osiągnąć.\n",
      "Odpowiedź: 4\n",
      "--------------------------------------------------\n",
      "10. Dążę do postawionego sobie celu, nawet gdy napotykam jakieś trudności.\n",
      "Odpowiedź: 4\n",
      "--------------------------------------------------\n",
      "11. Moje życie przebiega w dużym tempie.\n",
      "Odpowiedź: 3 - trudno ocenić\n",
      "--------------------------------------------------\n",
      "12. Często myślę o tym, jak potoczy się moja kariera zawodowa.\n",
      "Odpowiedź: 4\n",
      "--------------------------------------------------\n",
      "13. Przed dokonaniem wyboru staram się dokładnie rozpatrzyć wszystkie możliwości.\n",
      "Odpowiedź: 4\n",
      "--------------------------------------------------\n",
      "14. Lepiej przewidywać skutki niż dać się im zaskoczyć.\n",
      "Odpowiedź: 4\n",
      "--------------------------------------------------\n",
      "15. Czerpię wiedzę z doświadczeń innych.\n",
      "Odpowiedź: 4\n",
      "--------------------------------------------------\n",
      "16. Rozwiązując zadanie rozważam różne jego elementy i aspekty.\n",
      "Odpowiedź: 4\n",
      "--------------------------------------------------\n",
      "17. Zazwyczaj kończę to, co rozpoczynam.\n",
      "Odpowiedź: 3 - trudno ocenić\n",
      "--------------------------------------------------\n",
      "18. W pracy zawodowej lubię tworzyć nowe projekty, plany i rozwiązania.\n",
      "Odpowiedź: 4\n",
      "--------------------------------------------------\n",
      "19. Dokonanie nagłej zmiany działania przychodzi mi bez trudności.\n",
      "Odpowiedź: 3\n",
      "--------------------------------------------------\n",
      "20. Podejmuję ryzyko dla zwiększenie korzyści.\n",
      "Odpowiedź: 4\n",
      "--------------------------------------------------\n",
      "21. Potrafię zrezygnować ze postawionych zbyt ambitnych celów.\n",
      "Odpowiedź: 3\n",
      "--------------------------------------------------\n",
      "22. Lubię być tam, gdzie się coś dzieje.\n",
      "Odpowiedź: 4\n",
      "--------------------------------------------------\n",
      "23. Wiem, co będę robić za 10 lat.\n",
      "Odpowiedź: 3 - trudno ocenić\n",
      "--------------------------------------------------\n",
      "24. Podejmując się wykonania zadania, rozpoznaję możliwości jego rozwiązania.\n",
      "Odpowiedź: 4\n",
      "--------------------------------------------------\n",
      "25. Przed podjęciem decyzji myślę o jej odległych skutkach.\n",
      "Odpowiedź: 4\n",
      "--------------------------------------------------\n",
      "26. Kieruję się w życiu doświadczeniem innych.\n",
      "Odpowiedź: 3 - trudno ocenić\n",
      "--------------------------------------------------\n",
      "27. Patrzę na każdy problem z różnych punktów widzenia.\n",
      "Odpowiedź: 4\n",
      "--------------------------------------------------\n",
      "28. Skupiam się na tym, aby być skutecznym.\n",
      "Odpowiedź: 4\n",
      "--------------------------------------------------\n",
      "29. W rozwiązywaniu problemów wykorzystuję najczęściej nowe sposoby.\n",
      "Odpowiedź: 3\n",
      "--------------------------------------------------\n",
      "30. Potrafię szybko zmienić swoje plany, jeśli mam kogoś nagle zastąpić w pracy.\n",
      "Odpowiedź: 4\n",
      "--------------------------------------------------\n",
      "31. Warto ryzykować, nawet wtedy, gdy wszystko wróży niepowodzenie.\n",
      "Odpowiedź: 3\n",
      "--------------------------------------------------\n",
      "32. Ciężko pracuję, aby zrealizować swoje cele.\n",
      "Odpowiedź: 4\n",
      "--------------------------------------------------\n",
      "33. Jestem skłonny do ciągłego podejmowania wysiłku.\n",
      "Odpowiedź: 4\n",
      "--------------------------------------------------\n",
      "34. Aktualnie realizuję plany ustalone dawno temu.\n",
      "Odpowiedź: 4\n",
      "--------------------------------------------------\n",
      "35. Nie podejmuję działania, zanim nie rozważę wcześniej możliwych trudności.\n",
      "Odpowiedź: 4\n",
      "--------------------------------------------------\n",
      "36. Staram się mieć „awaryjny” plan na wypadek, gdyby coś źle poszło.\n",
      "Odpowiedź: 4\n",
      "--------------------------------------------------\n",
      "37. Często analizuję, czy wyniki pracy były warte poniesionych kosztów.\n",
      "Odpowiedź: 4\n",
      "--------------------------------------------------\n",
      "38. W każdej sytuacji rozważam za i przeciw.\n",
      "Odpowiedź: 3\n",
      "--------------------------------------------------\n",
      "39. Zazwyczaj doprowadzam do końca zadania, których się podejmuję.\n",
      "Odpowiedź: 4\n",
      "--------------------------------------------------\n",
      "40. Unikam szukania własnych pomysłów.\n",
      "Odpowiedź: 3\n",
      "--------------------------------------------------\n",
      "41. Słabiej radzę sobie w sytuacjach nowych.\n",
      "Odpowiedź: 3\n",
      "--------------------------------------------------\n",
      "42. W życiu często ryzykuję, żeby osiągnąć coś w przyszłości.\n",
      "Odpowiedź: 4\n",
      "--------------------------------------------------\n",
      "43. Całymi godzinami mogę rozwiązywać trudne zadanie.\n",
      "Odpowiedź: 3 - trudno ocenić\n",
      "--------------------------------------------------\n",
      "44. Podejmuję ciągle nowe wyzwania.\n",
      "Odpowiedź: 4\n",
      "--------------------------------------------------\n",
      "45. Mam konkretne plany zawodowe.\n",
      "Odpowiedź: 4\n",
      "--------------------------------------------------\n",
      "46. Rozpatruję szczegółowo sposoby realizacji własnych celów.\n",
      "Odpowiedź: 4\n",
      "--------------------------------------------------\n",
      "47. Zawsze mam na uwadze skutki swojego postępowania.\n",
      "Odpowiedź: 4\n",
      "--------------------------------------------------\n",
      "48. Przed podjęciem zadania zastanawiam się, czy warto je wykonać.\n",
      "Odpowiedź: 3 - trudno ocenić\n",
      "--------------------------------------------------\n",
      "49. Na każdy problem patrzę z różnych perspektyw.\n",
      "Odpowiedź: 3\n",
      "--------------------------------------------------\n",
      "50. Interesuje mnie rozwiązanie każdego problemu, którego się podejmę.\n",
      "Odpowiedź: 4\n",
      "--------------------------------------------------\n",
      "51. Chętnie podejmuję się zadań twórczych.\n",
      "Odpowiedź: 4\n",
      "--------------------------------------------------\n",
      "52. Jestem otwarty na nowe sytuacje i możliwości.\n",
      "Odpowiedź: 4\n",
      "--------------------------------------------------\n",
      "53. Potrafię sprawnie pracować w okresie napięcia.\n",
      "Odpowiedź: 4\n",
      "--------------------------------------------------\n",
      "54. Trudności w działaniu wyzwalają we mnie nową energię.\n",
      "Odpowiedź: 3 - trudno ocenić\n",
      "--------------------------------------------------\n",
      "55. Jestem bardzo aktywny.\n",
      "Odpowiedź: 4\n",
      "--------------------------------------------------\n",
      "56. W swojej pracy lubię planować długoterminowo.\n",
      "Odpowiedź: 4\n",
      "--------------------------------------------------\n",
      "57. Zanim zacznę rozwiązywać jakiś problem staram się go zrozumieć.\n",
      "Odpowiedź: 4\n",
      "--------------------------------------------------\n",
      "58. Zdarza mi się najpierw coś zrobić, a potem dopiero pomyśleć.\n",
      "Odpowiedź: 3\n",
      "--------------------------------------------------\n",
      "59. Rozważam, czy to co zrobię ma sens.\n",
      "Odpowiedź: 3 - trudno ocenić\n",
      "--------------------------------------------------\n",
      "60. Szukam wielu rozwiązań, aby znaleźć najlepsze z możliwych.\n",
      "Odpowiedź: 4\n",
      "--------------------------------------------------\n",
      "61. Dobrze radzę sobie z większością problemów.\n",
      "Odpowiedź: 4\n",
      "--------------------------------------------------\n",
      "62. Często poszukuję nowych metod rozwiązywania problemów.\n",
      "Odpowiedź: 4\n",
      "--------------------------------------------------\n",
      "63. Lubię, jak wokół mnie coś się dzieje.\n",
      "Odpowiedź: 4\n",
      "--------------------------------------------------\n",
      "64. Nie lubię ryzykować.\n",
      "Odpowiedź: 2\n",
      "--------------------------------------------------\n",
      "65. Mimo niepowodzeń uparcie dążę do realizacji postawionych celów.\n",
      "Odpowiedź: 4\n",
      "--------------------------------------------------\n",
      "66. Podejmuję wiele działań jednocześnie.\n",
      "Odpowiedź: 3\n",
      "--------------------------------------------------\n",
      "67. Widzę wyraźnie swoje przyszłe osiągnięcia zawodowe.\n",
      "Odpowiedź: 3\n",
      "--------------------------------------------------\n",
      "68. Każdą sytuację staram się oceniać rzetelnie.\n",
      "Odpowiedź: 4\n",
      "--------------------------------------------------\n",
      "69. Podejmując decyzję, analizuję różne jej konsekwencje.\n",
      "Odpowiedź: 4\n",
      "--------------------------------------------------\n",
      "70. Przed wykonaniem jakiejś pracy zastanawiam się, ile potrzebuję na to czasu.\n",
      "Odpowiedź: 4\n",
      "--------------------------------------------------\n",
      "71. Rozwiązując problem, rozważam go na wiele sposobów.\n",
      "Odpowiedź: 3\n",
      "--------------------------------------------------\n",
      "72. Mam wiele skutecznych metod działania.\n",
      "Odpowiedź: 4\n",
      "--------------------------------------------------\n",
      "73. Lubię pracować nad nowymi i nietypowymi problemami.\n",
      "Odpowiedź: 4\n",
      "--------------------------------------------------\n",
      "74. Lubię nowości.\n",
      "Odpowiedź: 4\n",
      "--------------------------------------------------\n",
      "75. Często ryzykuję w życiu.\n",
      "Odpowiedź: 3\n",
      "--------------------------------------------------\n",
      "76. Nie poddaję się w pracy, nawet jeśli nie osiągam oczekiwanych rezultatów.\n",
      "Odpowiedź: 4\n",
      "--------------------------------------------------\n",
      "77. Ciągle coś robię.\n",
      "Odpowiedź: 4\n",
      "--------------------------------------------------\n",
      "78. Mam swój program życiowy, który konsekwentnie realizuję.\n",
      "Odpowiedź: 4\n",
      "--------------------------------------------------\n",
      "79. W życiu jestem realistą.\n",
      "Odpowiedź: 3\n",
      "--------------------------------------------------\n",
      "80. Zwracam uwagę innym na skutki różnych zdarzeń.\n",
      "Odpowiedź: 4\n",
      "--------------------------------------------------\n",
      "81. Przed wykonaniem zadania, rozważam, czy sprostam rozwiązaniu.\n",
      "Odpowiedź: 3 - trudno ocenić\n",
      "--------------------------------------------------\n",
      "82. Staram się zawsze patrzeć na problem z różnych punktów widzenia.\n",
      "Odpowiedź: 4\n",
      "--------------------------------------------------\n",
      "83. Lubię widzieć efekty swojej pracy.\n",
      "Odpowiedź: 4\n",
      "--------------------------------------------------\n",
      "84. Zazwyczaj mam kilka pomysłów rozwiązania zadania.\n",
      "Odpowiedź: 3 - trudno ocenić\n",
      "--------------------------------------------------\n",
      "85. Chętnie podejmuję się nowych wyzwań.\n",
      "Odpowiedź: 4\n",
      "--------------------------------------------------\n",
      "86. Kto nie ryzykuje, ten nie zyskuje.\n",
      "Odpowiedź: 3\n",
      "--------------------------------------------------\n",
      "87. Gdy mi coś nie wychodzi, to nie zrażam się.\n",
      "Odpowiedź: 3 - trudno ocenić\n",
      "--------------------------------------------------\n",
      "88. Wolę się przyglądać czemuś niż brać w tym udział.\n",
      "Odpowiedź: 3 - trudno ocenić\n",
      "--------------------------------------------------\n",
      "89. Mam konkretne plany na przyszłość.\n",
      "Odpowiedź: 4\n",
      "--------------------------------------------------\n",
      "90. Staram się ocenić realnie rzeczywistość, nawet gdy jest to dla mnie niekorzystne.\n",
      "Odpowiedź: 4\n",
      "--------------------------------------------------\n",
      "91. Często zdarza mi się zrobić coś, nie biorąc pod uwagę możliwych konsekwencji.\n",
      "Odpowiedź: 3\n",
      "--------------------------------------------------\n",
      "92. Wyznaczam sobie czas, jaki przeznaczę na wykonanie jakiejś pracy.\n",
      "Odpowiedź: 4\n",
      "--------------------------------------------------\n",
      "93. Staram się mieć pełne rozeznanie w zadaniach, których się podejmuję.\n",
      "Odpowiedź: 4\n",
      "--------------------------------------------------\n",
      "94. Jestem osobą zaradną.\n",
      "Odpowiedź: 3 - trudno ocenić\n",
      "--------------------------------------------------\n",
      "95. Chętnie wprowadzam nowe pomysły w życie.\n",
      "Odpowiedź: 4\n",
      "--------------------------------------------------\n",
      "96. Nowe sytuacje wyzwalają we mnie energię.\n",
      "Odpowiedź: 4\n",
      "--------------------------------------------------\n",
      "97. Pociąga mnie niepewny, ale duży sukces.\n",
      "Odpowiedź: 3\n",
      "--------------------------------------------------\n",
      "98. Nie zrażam się niepowodzeniami.\n",
      "Odpowiedź: 4\n",
      "--------------------------------------------------\n",
      "99. Działam na różnych „frontach”.\n",
      "Odpowiedź: 3\n",
      "--------------------------------------------------\n",
      "100. Nie ma sensu planować dalekiej przyszłości.\n",
      "Odpowiedź: 3 - trudno ocenić\n",
      "--------------------------------------------------\n",
      "101. Trzeźwa ocena sytuacji często pomaga mi w podjęciu słusznej decyzji.\n",
      "Odpowiedź: 4\n",
      "--------------------------------------------------\n",
      "102. Z łatwością przewiduję większość zachowań ludzi.\n",
      "Odpowiedź: 3 - trudno ocenić\n",
      "--------------------------------------------------\n",
      "103. Przed wykonaniem zadania, zastanawiam się, czy warto je podejmować.\n",
      "Odpowiedź: 4\n",
      "--------------------------------------------------\n",
      "104. Na każdy problem patrzę całościowo.\n",
      "Odpowiedź: 4\n",
      "--------------------------------------------------\n",
      "105. Inni twierdzą, że jestem bardzo skuteczny.\n",
      "Odpowiedź: 4\n",
      "--------------------------------------------------\n",
      "106. Unikam rutyny w działaniu.\n",
      "Odpowiedź: 4\n",
      "--------------------------------------------------\n",
      "107. Nie zrażam się, gdy trzeba zmienić sposób działania.\n",
      "Odpowiedź: 4\n",
      "--------------------------------------------------\n",
      "108. Dobrze radzę sobie w niejasnych sytuacjach.\n",
      "Odpowiedź: 4\n",
      "--------------------------------------------------\n",
      "109. Nawet gdy doznaję niepowodzeń, dalej dążę do celu.\n",
      "Odpowiedź: 4\n",
      "--------------------------------------------------\n",
      "110. Lubię robić wiele różnych rzeczy w życiu.\n",
      "Odpowiedź: 4\n",
      "--------------------------------------------------\n"
     ]
    }
   ],
   "source": [
    "instruction = (\n",
    "    \"Oceń poniższe stwierdzenie w skali 1-5, gdzie:\\n\"\n",
    "    \"1 – zdecydowanie nie\\n\"\n",
    "    \"2 – raczej nie\\n\"\n",
    "    \"3 – trudno ocenić\\n\"\n",
    "    \"4 – raczej tak\\n\"\n",
    "    \"5 – zdecydowanie tak\\n\"\n",
    "    \"Odpowiedz tylko liczbą od 1 do 5, bez żadnych wyjaśnień.\\n\\n\"\n",
    ")\n",
    "answers = []\n",
    "\n",
    "for i, question in enumerate(questions, 1):\n",
    "    full_prompt = instruction + f\"Pytanie {i}: {question}\"\n",
    "    response = ollama.chat(\n",
    "        model=\"mistral\",\n",
    "        messages=[{\"role\": \"user\", \"content\": full_prompt}],\n",
    "        options={\n",
    "            \"temperature\": 0.01,\n",
    "            \"top_p\": 1\n",
    "        }\n",
    "    )\n",
    "    answer = response['message']['content'].strip()\n",
    "    answers.append(answer)\n",
    "    print(f\"{i}. {question}\")\n",
    "    print(f\"Odpowiedź: {answer}\")\n",
    "    print(\"-\" * 50)"
   ],
   "metadata": {
    "collapsed": false,
    "ExecuteTime": {
     "end_time": "2025-03-30T10:29:15.617984Z",
     "start_time": "2025-03-30T10:24:34.433156Z"
    }
   },
   "id": "46cf3d95d2c6457f",
   "execution_count": 4
  },
  {
   "cell_type": "markdown",
   "source": [
    "**Odpowiedzi**"
   ],
   "metadata": {
    "collapsed": false
   },
   "id": "ea4ed9f41d074fe1"
  },
  {
   "cell_type": "code",
   "outputs": [
    {
     "data": {
      "text/plain": "['4',\n '4',\n '4',\n '3 - trudno ocenić',\n '4',\n '4',\n '4',\n '3 - trudno ocenić',\n '4',\n '4',\n '3 - trudno ocenić',\n '4',\n '4',\n '4',\n '4',\n '4',\n '3 - trudno ocenić',\n '4',\n '3',\n '4',\n '3',\n '4',\n '3 - trudno ocenić',\n '4',\n '4',\n '3 - trudno ocenić',\n '4',\n '4',\n '3',\n '4',\n '3',\n '4',\n '4',\n '4',\n '4',\n '4',\n '4',\n '3',\n '4',\n '3',\n '3',\n '4',\n '3 - trudno ocenić',\n '4',\n '4',\n '4',\n '4',\n '3 - trudno ocenić',\n '3',\n '4',\n '4',\n '4',\n '4',\n '3 - trudno ocenić',\n '4',\n '4',\n '4',\n '3',\n '3 - trudno ocenić',\n '4',\n '4',\n '4',\n '4',\n '2',\n '4',\n '3',\n '3',\n '4',\n '4',\n '4',\n '3',\n '4',\n '4',\n '4',\n '3',\n '4',\n '4',\n '4',\n '3',\n '4',\n '3 - trudno ocenić',\n '4',\n '4',\n '3 - trudno ocenić',\n '4',\n '3',\n '3 - trudno ocenić',\n '3 - trudno ocenić',\n '4',\n '4',\n '3',\n '4',\n '4',\n '3 - trudno ocenić',\n '4',\n '4',\n '3',\n '4',\n '3',\n '3 - trudno ocenić',\n '4',\n '3 - trudno ocenić',\n '4',\n '4',\n '4',\n '4',\n '4',\n '4',\n '4',\n '4']"
     },
     "execution_count": 5,
     "metadata": {},
     "output_type": "execute_result"
    }
   ],
   "source": [
    "answers"
   ],
   "metadata": {
    "collapsed": false,
    "ExecuteTime": {
     "end_time": "2025-03-30T10:29:34.763660Z",
     "start_time": "2025-03-30T10:29:34.672828Z"
    }
   },
   "id": "4781fb8fae5931ae",
   "execution_count": 5
  },
  {
   "cell_type": "markdown",
   "source": [
    "Poprawmy te odpowiedzi, aby były to same liczby plus dodajmy na samym początku element 0, aby numeracja pytań zaczynała się od 1."
   ],
   "metadata": {
    "collapsed": false
   },
   "id": "e1ef4864d72f8552"
  },
  {
   "cell_type": "code",
   "outputs": [
    {
     "name": "stdout",
     "output_type": "stream",
     "text": [
      "[0, 4, 4, 4, 3, 4, 4, 4, 3, 4, 4, 3, 4, 4, 4, 4, 4, 3, 4, 3, 4, 3, 4, 3, 4, 4, 3, 4, 4, 3, 4, 3, 4, 4, 4, 4, 4, 4, 3, 4, 3, 3, 4, 3, 4, 4, 4, 4, 3, 3, 4, 4, 4, 4, 3, 4, 4, 4, 3, 3, 4, 4, 4, 4, 2, 4, 3, 3, 4, 4, 4, 3, 4, 4, 4, 3, 4, 4, 4, 3, 4, 3, 4, 4, 3, 4, 3, 3, 3, 4, 4, 3, 4, 4, 3, 4, 4, 3, 4, 3, 3, 4, 3, 4, 4, 4, 4, 4, 4, 4, 4] 111\n"
     ]
    }
   ],
   "source": [
    "answers = [0] + [int(ans.split()[0]) for ans in answers]\n",
    "print(answers, len(answers))"
   ],
   "metadata": {
    "collapsed": false,
    "ExecuteTime": {
     "end_time": "2025-03-30T10:29:37.941724Z",
     "start_time": "2025-03-30T10:29:37.933156Z"
    }
   },
   "id": "2ea6ceabaf49b5f0",
   "execution_count": 6
  },
  {
   "cell_type": "markdown",
   "source": [
    "Teraz wszystko wygląda dobrze :)"
   ],
   "metadata": {
    "collapsed": false
   },
   "id": "2da5d9d088243278"
  },
  {
   "cell_type": "markdown",
   "source": [
    "# Obliczanie wyników\n",
    "**Odwracanie skali**\n",
    "Musimy odwrócić skalę w pytaniach: 88, 40, 41, 64, 21, 58, 91, 100"
   ],
   "metadata": {
    "collapsed": false
   },
   "id": "82f3f559747ab497"
  },
  {
   "cell_type": "code",
   "outputs": [],
   "source": [
    "scale_r = [88, 40, 41, 64, 21, 58, 91, 100]\n",
    "for i in scale_r:\n",
    "    answers[i] = 6 - answers[i]"
   ],
   "metadata": {
    "collapsed": false,
    "ExecuteTime": {
     "end_time": "2025-03-30T10:35:14.716708Z",
     "start_time": "2025-03-30T10:35:14.701549Z"
    }
   },
   "id": "6f19c9ee4b8c741a",
   "execution_count": 7
  },
  {
   "cell_type": "markdown",
   "source": [
    "**Sumowanie wyników** "
   ],
   "metadata": {
    "collapsed": false
   },
   "id": "290484d839471c4f"
  },
  {
   "cell_type": "code",
   "outputs": [],
   "source": [
    "ak_idx = [11, 22, 33, 44, 55, 66, 77, 88, 99, 110]\n",
    "kr_idx = [7, 18, 29, 40, 51, 62, 73, 84, 95, 106]\n",
    "el_idx = [8, 19, 30, 41, 52, 63, 74, 85, 96, 107]\n",
    "ry_idx = [9, 20, 31, 42, 53, 64, 75, 86, 97, 108]\n",
    "wt_idx = [10, 21, 32, 43, 54, 65, 76, 87, 98, 109]\n",
    "sk_idx = [6, 17, 28, 39, 50, 61, 72, 83, 94, 105]\n",
    "an_idx = [2, 13, 24, 35, 46, 57, 68, 79, 90, 101]\n",
    "pk_idx = [3, 14, 25, 36, 47, 58, 69, 80, 91, 102]\n",
    "gl_idx = [5, 16, 27, 38, 49, 60, 71, 82, 93, 104]\n",
    "pd_idx = [1, 12, 23, 34, 45, 56, 67, 78, 89, 100]\n",
    "os_idx = [4, 15, 26, 37, 48, 59, 70, 81, 92, 103]\n",
    "\n",
    "ak_sum = sum([answers[i] for i in ak_idx])\n",
    "kr_sum = sum([answers[i] for i in kr_idx])\n",
    "el_sum = sum([answers[i] for i in el_idx])\n",
    "ry_sum = sum([answers[i] for i in ry_idx])\n",
    "wt_sum = sum([answers[i] for i in wt_idx])\n",
    "sk_sum = sum([answers[i] for i in sk_idx])\n",
    "an_sum = sum([answers[i] for i in an_idx])\n",
    "pk_sum = sum([answers[i] for i in pk_idx])\n",
    "gl_sum = sum([answers[i] for i in gl_idx])\n",
    "pd_sum = sum([answers[i] for i in pd_idx])\n",
    "os_sum = sum([answers[i] for i in os_idx])"
   ],
   "metadata": {
    "collapsed": false,
    "ExecuteTime": {
     "end_time": "2025-03-30T11:09:39.184385Z",
     "start_time": "2025-03-30T11:09:39.155040Z"
    }
   },
   "id": "c531ab35bd7bc646",
   "execution_count": 19
  },
  {
   "cell_type": "code",
   "outputs": [
    {
     "name": "stdout",
     "output_type": "stream",
     "text": [
      "AK: 36, KR: 37, EL: 37, RY: 36, WT: 36, SK: 38, AN: 39, PK: 37, GL: 37, PD: 37, OS: 35\n"
     ]
    }
   ],
   "source": [
    "sums = [ak_sum, kr_sum, el_sum, ry_sum, wt_sum, sk_sum, an_sum, pk_sum, gl_sum, pd_sum, os_sum]\n",
    "print(f\"AK: {ak_sum}, KR: {kr_sum}, EL: {el_sum}, RY: {ry_sum}, WT: {wt_sum}, SK: {sk_sum}, AN: {an_sum}, PK: {pk_sum}, GL: {gl_sum}, PD: {pd_sum}, OS: {os_sum}\")"
   ],
   "metadata": {
    "collapsed": false,
    "ExecuteTime": {
     "end_time": "2025-03-30T11:09:39.981996Z",
     "start_time": "2025-03-30T11:09:39.961937Z"
    }
   },
   "id": "927f9a2b3b33314",
   "execution_count": 20
  },
  {
   "cell_type": "markdown",
   "source": [
    "# Wyniki"
   ],
   "metadata": {
    "collapsed": false
   },
   "id": "28ed62a48db39f89"
  },
  {
   "cell_type": "code",
   "outputs": [
    {
     "data": {
      "text/plain": "<IPython.core.display.Markdown object>",
      "text/markdown": "\n**AK (aktywność – orientacja na działanie)**\nWynik: 36, sten: 4  \n\n**KR (kreatywność – poszukiwanie i generowanie nowych możliwości oraz nowatorskich rozwiązań)**\nWynik: 37, sten: 4  \n\n**EL (elastyczność – otwartość na zmiany i dostosowywanie się do nowości)**\nWynik: 37, sten: 5  \n\n**RY (ryzyko – radzenie sobie z niepewnością i trudnościami)**\nWynik: 36, sten: 6  \n\n**WT (wytrwałość – konsekwencja w dążeniu do celów)**\nWynik: 36, sten: 4  \n\n**SK (skuteczność – osiąganie zamierzonych celów)**\nWynik: 38, sten: 3  \n\n**AN (analityczność – umiejętność rzetelnej analizy)**\nWynik: 39, sten: 5  \n\n**PK (przewidywanie konsekwencji – umiejętność przewidywania następstw działań)**\nWynik: 37, sten: 4  \n\n**GL (globalność – myślenie szerokimi kategoriami)**\nWynik: 37, sten: 3  \n\n**PD (planowanie długoterminowe – zdolność do długofalowego planowania)**\nWynik: 37, sten: 7  \n\n**OS (ocena strategiczna – analiza efektywności działań)**\nWynik: 35, sten: 3  \n"
     },
     "metadata": {},
     "output_type": "display_data"
    }
   ],
   "source": [
    "from IPython.display import Markdown, display\n",
    "\n",
    "markdown_text = f\"\"\"\n",
    "**AK (aktywność – orientacja na działanie)**\n",
    "Wynik: {ak_sum}, sten: 4  \n",
    "\n",
    "**KR (kreatywność – poszukiwanie i generowanie nowych możliwości oraz nowatorskich rozwiązań)**\n",
    "Wynik: {kr_sum}, sten: 4  \n",
    "\n",
    "**EL (elastyczność – otwartość na zmiany i dostosowywanie się do nowości)**\n",
    "Wynik: {el_sum}, sten: 5  \n",
    "\n",
    "**RY (ryzyko – radzenie sobie z niepewnością i trudnościami)**\n",
    "Wynik: {ry_sum}, sten: 6  \n",
    "\n",
    "**WT (wytrwałość – konsekwencja w dążeniu do celów)**\n",
    "Wynik: {wt_sum}, sten: 4  \n",
    "\n",
    "**SK (skuteczność – osiąganie zamierzonych celów)**\n",
    "Wynik: {sk_sum}, sten: 3  \n",
    "\n",
    "**AN (analityczność – umiejętność rzetelnej analizy)**\n",
    "Wynik: {an_sum}, sten: 5  \n",
    "\n",
    "**PK (przewidywanie konsekwencji – umiejętność przewidywania następstw działań)**\n",
    "Wynik: {pk_sum}, sten: 4  \n",
    "\n",
    "**GL (globalność – myślenie szerokimi kategoriami)**\n",
    "Wynik: {gl_sum}, sten: 3  \n",
    "\n",
    "**PD (planowanie długoterminowe – zdolność do długofalowego planowania)**\n",
    "Wynik: {pd_sum}, sten: 7  \n",
    "\n",
    "**OS (ocena strategiczna – analiza efektywności działań)**\n",
    "Wynik: {os_sum}, sten: 3  \n",
    "\"\"\"\n",
    "\n",
    "display(Markdown(markdown_text))"
   ],
   "metadata": {
    "collapsed": false,
    "ExecuteTime": {
     "end_time": "2025-03-30T11:20:01.195662Z",
     "start_time": "2025-03-30T11:20:01.182863Z"
    }
   },
   "id": "daac5a7d0e60bdaf",
   "execution_count": 22
  },
  {
   "cell_type": "markdown",
   "source": [
    "### Wnioski\n",
    "Na podstawie uzyskanych wyników widzimy, że jedynie zdolność do długofalowego planowania (PD) jest na wysokiem poziomie według skali sten (wynik 7), co oznacza, że jest to najsilniejsza strona modelu. Następnie widzimy, że na średnim poziomie (czyli 5 i 6) są zdolności do rzetelnej analizy (AN), radzenia sobie z niepewnością i trudnościami (RY) oraz elastyczność (EL). Pozostałe zdolności są na poziomie 3-4, co oznacza, że wynik jest niski."
   ],
   "metadata": {
    "collapsed": false
   },
   "id": "47aad68e6a7f46cd"
  }
 ],
 "metadata": {
  "kernelspec": {
   "display_name": "Python 3",
   "language": "python",
   "name": "python3"
  },
  "language_info": {
   "codemirror_mode": {
    "name": "ipython",
    "version": 2
   },
   "file_extension": ".py",
   "mimetype": "text/x-python",
   "name": "python",
   "nbconvert_exporter": "python",
   "pygments_lexer": "ipython2",
   "version": "2.7.6"
  }
 },
 "nbformat": 4,
 "nbformat_minor": 5
}
